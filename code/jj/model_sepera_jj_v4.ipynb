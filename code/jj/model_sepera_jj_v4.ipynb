{
 "cells": [
  {
   "cell_type": "code",
   "execution_count": 1,
   "id": "8680a9ba-aee1-4134-9e6a-da231fc222ac",
   "metadata": {},
   "outputs": [],
   "source": [
    "#!conda install -n base -c conda-forge jupyterlab_widgets -y"
   ]
  },
  {
   "cell_type": "code",
   "execution_count": 2,
   "id": "3f555b0e-6c63-4e49-8cf5-a68e3b4e7674",
   "metadata": {},
   "outputs": [],
   "source": [
    "# conda install -c conda-forge ipywidgets"
   ]
  },
  {
   "cell_type": "code",
   "execution_count": 2,
   "id": "0c7e8471-9e21-4eb6-b9a5-40a144260c86",
   "metadata": {},
   "outputs": [],
   "source": [
    "import random\n",
    "\n",
    "import matplotlib\n",
    "import matplotlib.pyplot as plt\n",
    "\n",
    "import os\n",
    "\n",
    "import torch\n",
    "import torch.nn as nn\n",
    "import torch.optim as optim\n",
    "from torch.utils.data import Subset\n",
    "\n",
    "import torchvision\n",
    "from torchvision import datasets, models, transforms\n",
    "\n",
    "from sklearn.metrics import f1_score\n",
    "from sklearn.model_selection import train_test_split\n",
    "\n",
    "import pandas as pd\n",
    "import numpy as np\n",
    "import time\n",
    "from tqdm import tqdm\n",
    "\n",
    "from PIL import Image\n",
    "\n",
    "device = torch.device(\"cuda:0\" if torch.cuda.is_available() else \"cpu\") # device 객체\n",
    "\n",
    "# Set random seed\n",
    "SEED = 2021\n",
    "random.seed(SEED)\n",
    "np.random.seed(SEED)\n",
    "os.environ[\"PYTHONHASHSEED\"] = str(SEED)\n",
    "torch.manual_seed(SEED)\n",
    "torch.cuda.manual_seed(SEED)  # type: ignore\n",
    "torch.backends.cudnn.deterministic = True  # type: ignore\n",
    "torch.backends.cudnn.benchmark = True  # type: ignore"
   ]
  },
  {
   "cell_type": "code",
   "execution_count": 3,
   "id": "cf0588e7-5b2f-478d-88a2-d89bcb43fc4c",
   "metadata": {},
   "outputs": [
    {
     "data": {
      "text/plain": [
       "device(type='cuda', index=0)"
      ]
     },
     "execution_count": 3,
     "metadata": {},
     "output_type": "execute_result"
    }
   ],
   "source": [
    "device"
   ]
  },
  {
   "cell_type": "code",
   "execution_count": 4,
   "id": "d19226b9-9a44-4749-8d7e-f64cda093c58",
   "metadata": {},
   "outputs": [],
   "source": [
    "# 데이터셋을 불러올 때 사용할 변형(transformation) 객체 정의\n",
    "transforms = transforms.Compose([\n",
    "    transforms.Resize((224, 224)),\n",
    "    transforms.ToTensor(),\n",
    "    transforms.Normalize([0.485, 0.456, 0.406], [0.229, 0.224, 0.225]) # 정규화(normalization)\n",
    "])"
   ]
  },
  {
   "cell_type": "code",
   "execution_count": 5,
   "id": "05d634aa-a785-4b4a-ae74-55a91df3b5ac",
   "metadata": {},
   "outputs": [],
   "source": [
    "def train_val_dataset(data):\n",
    "    \n",
    "    train_idx = []\n",
    "    val_idx = []\n",
    "    \n",
    "    for i in range(len(data.classes)):\n",
    "        all_idx = []\n",
    "        \n",
    "        for j in tqdm(range(len(data))):\n",
    "            if i == data[j][1]:\n",
    "                all_idx.append(j)\n",
    "        \n",
    "        split_idx = int(len(all_idx) * 0.8)\n",
    "        \n",
    "        train_idx = np.concatenate((train_idx, all_idx[:split_idx]))\n",
    "        val_idx = np.concatenate((val_idx, all_idx[split_idx:]))\n",
    "    \n",
    "    datas = {}\n",
    "    datas['train'] = Subset(data, list(map(int, train_idx)))\n",
    "    datas['val'] = Subset(data, list(map(int, val_idx)))\n",
    "    \n",
    "    return datas"
   ]
  },
  {
   "cell_type": "code",
   "execution_count": 6,
   "id": "4d1f1ccb-1fd9-45e9-897c-6d652cbf5b93",
   "metadata": {},
   "outputs": [],
   "source": [
    "def data_aug(data, data_train, target):\n",
    "    cls_idx = data.class_to_idx\n",
    "    \n",
    "    train_idx = []\n",
    "    \n",
    "    all_idx = []\n",
    "    for i in tqdm(range(len(data))):\n",
    "        \n",
    "        if data[i][1] == cls_idx[target]:\n",
    "            \n",
    "            all_idx.append(i)\n",
    "    \n",
    "    split_idx = int(len(all_idx) * 0.8)\n",
    "    \n",
    "    train_idx = np.concatenate((train_idx, all_idx[:split_idx]))\n",
    "    \n",
    "    datas = Subset(data, list(map(int, train_idx)))\n",
    "    datas_aug = torch.utils.data.ConcatDataset([data_train, datas])\n",
    "    \n",
    "    return datas_aug"
   ]
  },
  {
   "cell_type": "code",
   "execution_count": 8,
   "id": "d31a7263-b6c3-410a-91db-6164b144dee2",
   "metadata": {},
   "outputs": [
    {
     "data": {
      "text/plain": [
       "\"\\ndef train_val_dataset(data, val_split=0.2):\\n    train_idx, val_idx = train_test_split(list(range(len(data))), test_size=val_split, shuffle=False)\\n    datas = {}\\n    datas['train'] = Subset(data, train_idx)\\n    datas['val'] = Subset(data, val_idx)\\n    return datas\\n\""
      ]
     },
     "execution_count": 8,
     "metadata": {},
     "output_type": "execute_result"
    }
   ],
   "source": [
    "'''\n",
    "def train_val_dataset(data, val_split=0.2):\n",
    "    train_idx, val_idx = train_test_split(list(range(len(data))), test_size=val_split, shuffle=False)\n",
    "    datas = {}\n",
    "    datas['train'] = Subset(data, train_idx)\n",
    "    datas['val'] = Subset(data, val_idx)\n",
    "    return datas\n",
    "'''"
   ]
  },
  {
   "cell_type": "code",
   "execution_count": 7,
   "id": "663cc461-4515-4a66-a5b7-edd39a3e3f3b",
   "metadata": {},
   "outputs": [],
   "source": [
    "from torch.utils.data import Dataset, DataLoader\n",
    "\n",
    "class TestDataset(Dataset):\n",
    "    def __init__(self, img_paths, transform):\n",
    "        self.img_paths = img_paths\n",
    "        self.transform = transform\n",
    "\n",
    "    def __getitem__(self, index):\n",
    "        image = Image.open(self.img_paths[index])\n",
    "\n",
    "        if self.transform:\n",
    "            image = self.transform(image)\n",
    "        return image\n",
    "\n",
    "    def __len__(self):\n",
    "        return len(self.img_paths)"
   ]
  },
  {
   "cell_type": "code",
   "execution_count": 8,
   "id": "d037b207-527a-439c-85ba-97179dd1ab98",
   "metadata": {},
   "outputs": [],
   "source": [
    "test_dir = '/opt/ml/input/cropped_v2.1/eval'\n",
    "submission = pd.read_csv(os.path.join(test_dir, 'info.csv'))"
   ]
  },
  {
   "cell_type": "code",
   "execution_count": 17,
   "id": "640c3ffd-00cc-4653-a673-dddcf83fcd2b",
   "metadata": {},
   "outputs": [],
   "source": [
    "def model_run_age(target, sub_df, test_dir, learning_rate = 0.001):\n",
    "    data_dir = f'/opt/ml/input/cropped_v2.1/train/images_classified_{target}/'\n",
    "    \n",
    "    dataset = datasets.ImageFolder(os.path.join(data_dir), transforms)\n",
    "    \n",
    "    print(f'*****{target}*****')\n",
    "    print(dataset)\n",
    "    print()\n",
    "    \n",
    "    class_names = dataset.classes\n",
    "    print(class_names)\n",
    "    print()\n",
    "    \n",
    "    print('****train, valid split****')\n",
    "    dataset_split = train_val_dataset(dataset)\n",
    "    \n",
    "    print('****data augmentation****')\n",
    "    dataset_aug = data_aug(dataset, dataset_split['train'], '2')\n",
    "    \n",
    "    dataloader = torch.utils.data.DataLoader(dataset_aug, batch_size=128, shuffle=True, num_workers=8)\n",
    "    \n",
    "    #dataloader = torch.utils.data.DataLoader(dataset_split['train'], batch_size=128, shuffle=True, num_workers=8)\n",
    "    valid_dataloader = torch.utils.data.DataLoader(dataset_split['val'], batch_size=128, shuffle=False, num_workers=8)\n",
    "    \n",
    "    #model = models.resnet34(pretrained=True)\n",
    "    model = models.resnet18(pretrained=True)\n",
    "    \n",
    "    num_features = model.fc.in_features\n",
    "    # 전이 학습(transfer learning): 모델의 출력 뉴런 수를 18개로 교체하여 마지막 레이어 다시 학습\n",
    "    model.fc = nn.Linear(num_features, len(class_names)) \n",
    "    model = model.to(device)\n",
    "\n",
    "    criterion = nn.CrossEntropyLoss()\n",
    "    optimizer = optim.SGD(model.parameters(), lr=learning_rate, momentum=0.4)\n",
    "    \n",
    "    num_epochs = 50\n",
    "    model.train()\n",
    "    start_time = time.time()\n",
    "\n",
    "    # 전체 반복(epoch) 수 만큼 반복하며\n",
    "    print('****start epoch****')\n",
    "    for epoch in range(num_epochs):\n",
    "        running_loss = 0.\n",
    "        running_corrects = 0\n",
    "        \n",
    "        all_labels = []\n",
    "        all_preds = []\n",
    "        \n",
    "        # 배치 단위로 학습 데이터 불러오기\n",
    "        for inputs, labels in tqdm(dataloader):\n",
    "            inputs = inputs.to(device)\n",
    "            labels = labels.to(device)\n",
    "\n",
    "            # 모델에 입력(forward)하고 결과 계산\n",
    "            optimizer.zero_grad() # 전체 grad 값을 초기화.\n",
    "            outputs = model(inputs)\n",
    "            _, preds = torch.max(outputs, 1)\n",
    "            loss = criterion(outputs, labels)\n",
    "            \n",
    "            all_preds.extend(preds.cpu().numpy())\n",
    "            \n",
    "            # 역전파를 통해 기울기(gradient) 계산 및 학습 진행\n",
    "            loss.backward()\n",
    "            optimizer.step()\n",
    "\n",
    "            running_loss += loss.item() * inputs.size(0)\n",
    "            running_corrects += torch.sum(preds == labels.data)\n",
    "            \n",
    "            all_labels.extend(labels.data.cpu().numpy())\n",
    "\n",
    "        epoch_loss = running_loss / len(dataset_aug)\n",
    "        epoch_acc = running_corrects / len(dataset_aug) * 100.\n",
    "        #epoch_loss = running_loss / len(dataset_split['train'])\n",
    "        #epoch_acc = running_corrects / len(dataset_split['train']) * 100.\n",
    "        F1_score_train = f1_score(all_labels, all_preds, average='macro')\n",
    "        \n",
    "        # validation\n",
    "        model.eval()\n",
    "        \n",
    "        all_labels = []\n",
    "        all_preds = []\n",
    "        \n",
    "        with torch.no_grad():\n",
    "            running_loss = 0.\n",
    "            running_corrects = 0\n",
    "            \n",
    "            for inputs, labels in valid_dataloader:\n",
    "                inputs = inputs.to(device)\n",
    "                labels = labels.to(device)\n",
    "\n",
    "                outputs = model(inputs)\n",
    "                _, preds = torch.max(outputs, 1)\n",
    "        \n",
    "                all_preds.extend(preds.cpu().numpy())\n",
    "        \n",
    "                loss = criterion(outputs, labels)\n",
    "\n",
    "                running_loss += loss.item() * inputs.size(0)\n",
    "                running_corrects += torch.sum(preds == labels.data)\n",
    "        \n",
    "                all_labels.extend(labels.data.cpu().numpy())\n",
    "        \n",
    "            valid_epoch_loss = running_loss / len(dataset_split['val'])\n",
    "            valid_epoch_acc = running_corrects / len(dataset_split['val']) * 100.\n",
    "            F1_score = f1_score(all_labels, all_preds, average='macro')\n",
    "        \n",
    "        # 학습 과정 중에 결과 출력\n",
    "        print('#{} Loss: {:.4f} Acc: {:.4f} F1 Score: {:.4f} % Time: {:.4f}s'.format(epoch, epoch_loss, epoch_acc, F1_score_train, time.time() - start_time))\n",
    "        print(f'Valid Loss: {valid_epoch_loss:.4f} Valid Acc: {valid_epoch_acc:.4f} Valid F1 Score: {F1_score:.4f}')\n",
    "    \n",
    "    valid_preds = preds.cpu().numpy()\n",
    "    valid_labels = labels.cpu().numpy()\n",
    "    valid_inputs = inputs.cpu().numpy()\n",
    "    \n",
    "    \n",
    "    image_dir = os.path.join(test_dir, 'images')\n",
    "    \n",
    "    image_paths = [os.path.join(image_dir, img_id) for img_id in sub_df.ImageID]\n",
    "    \n",
    "    test_set = TestDataset(image_paths, transforms)\n",
    "    \n",
    "    test_dataloader = torch.utils.data.DataLoader(test_set, batch_size=128, shuffle=False, num_workers=8)\n",
    "    \n",
    "    all_predictions = []\n",
    "\n",
    "    with torch.no_grad():\n",
    "        for inputs in tqdm(test_dataloader):\n",
    "            inputs = inputs.to(device)\n",
    "        \n",
    "            outputs = model(inputs)\n",
    "            _, preds = torch.max(outputs, 1)\n",
    "        \n",
    "            all_predictions.extend(preds.cpu().numpy())\n",
    "    \n",
    "    all_predictions2 = []\n",
    "\n",
    "    for p in all_predictions:\n",
    "        all_predictions2.append(class_names[p])\n",
    "        \n",
    "    sub_df[target] = all_predictions2\n",
    "    \n",
    "    return (sub_df, valid_preds, valid_labels, valid_inputs, dataset.classes)"
   ]
  },
  {
   "cell_type": "code",
   "execution_count": 18,
   "id": "512a951a-7d15-4c64-9d12-a4d302963fe7",
   "metadata": {},
   "outputs": [],
   "source": [
    "def model_run(target, sub_df, test_dir, learning_rate = 0.001):\n",
    "    data_dir = f'/opt/ml/input/cropped_v2.1/train/images_classified_{target}/'\n",
    "    \n",
    "    dataset = datasets.ImageFolder(os.path.join(data_dir), transforms)\n",
    "    \n",
    "    print(f'*****{target}*****')\n",
    "    print(dataset)\n",
    "    print()\n",
    "    \n",
    "    class_names = dataset.classes\n",
    "    print(class_names)\n",
    "    print()\n",
    "    \n",
    "    print('****train, valid split****')\n",
    "    dataset_split = train_val_dataset(dataset)\n",
    "    \n",
    "    dataloader = torch.utils.data.DataLoader(dataset_split['train'], batch_size=128, shuffle=True, num_workers=8)\n",
    "    valid_dataloader = torch.utils.data.DataLoader(dataset_split['val'], batch_size=128, shuffle=False, num_workers=8)\n",
    "    \n",
    "    model = models.resnet34(pretrained=True)\n",
    "\n",
    "    num_features = model.fc.in_features\n",
    "    # 전이 학습(transfer learning): 모델의 출력 뉴런 수를 18개로 교체하여 마지막 레이어 다시 학습\n",
    "    model.fc = nn.Linear(num_features, len(class_names)) \n",
    "    model = model.to(device)\n",
    "\n",
    "    criterion = nn.CrossEntropyLoss()\n",
    "    optimizer = optim.SGD(model.parameters(), lr=learning_rate, momentum=0.9)\n",
    "    \n",
    "    num_epochs = 10\n",
    "    model.train()\n",
    "    start_time = time.time()\n",
    "\n",
    "    # 전체 반복(epoch) 수 만큼 반복하며\n",
    "    print('****start epoch****')\n",
    "    for epoch in range(num_epochs):\n",
    "        running_loss = 0.\n",
    "        running_corrects = 0\n",
    "        \n",
    "        all_labels = []\n",
    "        all_preds = []\n",
    "        \n",
    "        # 배치 단위로 학습 데이터 불러오기\n",
    "        for inputs, labels in tqdm(dataloader):\n",
    "            inputs = inputs.to(device)\n",
    "            labels = labels.to(device)\n",
    "\n",
    "            # 모델에 입력(forward)하고 결과 계산\n",
    "            optimizer.zero_grad() # 전체 grad 값을 초기화.\n",
    "            outputs = model(inputs)\n",
    "            _, preds = torch.max(outputs, 1)\n",
    "            loss = criterion(outputs, labels)\n",
    "            \n",
    "            all_preds.extend(preds.cpu().numpy())\n",
    "            \n",
    "            # 역전파를 통해 기울기(gradient) 계산 및 학습 진행\n",
    "            loss.backward()\n",
    "            optimizer.step()\n",
    "            \n",
    "            all_labels.extend(labels.data.cpu().numpy())\n",
    "            \n",
    "            running_loss += loss.item() * inputs.size(0)\n",
    "            running_corrects += torch.sum(preds == labels.data)\n",
    "\n",
    "        epoch_loss = running_loss / len(dataset_split['train'])\n",
    "        epoch_acc = running_corrects / len(dataset_split['train']) * 100.\n",
    "        F1_score_train = f1_score(all_labels, all_preds, average='macro')\n",
    "        \n",
    "        # validation\n",
    "        model.eval()\n",
    "        \n",
    "        all_labels = []\n",
    "        all_preds = []\n",
    "        \n",
    "        with torch.no_grad():\n",
    "            running_loss = 0.\n",
    "            running_corrects = 0\n",
    "            \n",
    "            for inputs, labels in valid_dataloader:\n",
    "                inputs = inputs.to(device)\n",
    "                labels = labels.to(device)\n",
    "\n",
    "                outputs = model(inputs)\n",
    "                _, preds = torch.max(outputs, 1)\n",
    "        \n",
    "                all_preds.extend(preds.cpu().numpy())\n",
    "        \n",
    "                loss = criterion(outputs, labels)\n",
    "\n",
    "                running_loss += loss.item() * inputs.size(0)\n",
    "                running_corrects += torch.sum(preds == labels.data)\n",
    "        \n",
    "                all_labels.extend(labels.data.cpu().numpy())\n",
    "        \n",
    "            valid_epoch_loss = running_loss / len(dataset_split['val'])\n",
    "            valid_epoch_acc = running_corrects / len(dataset_split['val']) * 100.\n",
    "            F1_score = f1_score(all_labels, all_preds, average='macro')\n",
    "        \n",
    "        # 학습 과정 중에 결과 출력\n",
    "        print('#{} Loss: {:.4f} Acc: {:.4f} F1 Score: {:.4f} % Time: {:.4f}s'.format(epoch, epoch_loss, epoch_acc, F1_score_train, time.time() - start_time))\n",
    "        print(f'Valid Loss: {valid_epoch_loss:.4f} Valid Acc: {valid_epoch_acc:.4f} F1 Score: {F1_score:.4f}')\n",
    "   \n",
    "    valid_preds = preds.cpu().numpy()\n",
    "    valid_labels = labels.cpu().numpy()\n",
    "    valid_inputs = inputs.cpu().numpy()    \n",
    "            \n",
    "    image_dir = os.path.join(test_dir, 'images')\n",
    "    \n",
    "    image_paths = [os.path.join(image_dir, img_id) for img_id in sub_df.ImageID]\n",
    "    \n",
    "    test_set = TestDataset(image_paths, transforms)\n",
    "    \n",
    "    test_dataloader = torch.utils.data.DataLoader(test_set, batch_size=128, shuffle=False, num_workers=8)\n",
    "    \n",
    "    all_predictions = []\n",
    "\n",
    "    with torch.no_grad():\n",
    "        for inputs in tqdm(test_dataloader):\n",
    "            inputs = inputs.to(device)\n",
    "        \n",
    "            outputs = model(inputs)\n",
    "            _, preds = torch.max(outputs, 1)\n",
    "        \n",
    "            all_predictions.extend(preds.cpu().numpy())\n",
    "    \n",
    "    all_predictions2 = []\n",
    "\n",
    "    for p in all_predictions:\n",
    "        all_predictions2.append(class_names[p])\n",
    "        \n",
    "    sub_df[target] = all_predictions2\n",
    "    \n",
    "    return (sub_df, valid_preds, valid_labels, valid_inputs, dataset.classes)"
   ]
  },
  {
   "cell_type": "code",
   "execution_count": 19,
   "id": "73b7e3f5-7c00-4b34-8fe5-a665d0e24fe1",
   "metadata": {},
   "outputs": [
    {
     "name": "stderr",
     "output_type": "stream",
     "text": [
      "  0%|          | 18/18900 [00:00<01:46, 177.31it/s]"
     ]
    },
    {
     "name": "stdout",
     "output_type": "stream",
     "text": [
      "*****mask*****\n",
      "Dataset ImageFolder\n",
      "    Number of datapoints: 18900\n",
      "    Root location: /opt/ml/input/cropped_v2.1/train/images_classified_mask/\n",
      "    StandardTransform\n",
      "Transform: Compose(\n",
      "               Resize(size=(224, 224), interpolation=PIL.Image.BILINEAR)\n",
      "               ToTensor()\n",
      "               Normalize(mean=[0.485, 0.456, 0.406], std=[0.229, 0.224, 0.225])\n",
      "           )\n",
      "\n",
      "['0', '12', '6']\n",
      "\n",
      "****train, valid split****\n"
     ]
    },
    {
     "name": "stderr",
     "output_type": "stream",
     "text": [
      "100%|██████████| 18900/18900 [00:56<00:00, 332.09it/s]\n",
      "100%|██████████| 18900/18900 [00:56<00:00, 331.68it/s]\n",
      "100%|██████████| 18900/18900 [00:56<00:00, 332.51it/s]\n",
      "  0%|          | 0/119 [00:00<?, ?it/s]"
     ]
    },
    {
     "name": "stdout",
     "output_type": "stream",
     "text": [
      "****start epoch****\n"
     ]
    },
    {
     "name": "stderr",
     "output_type": "stream",
     "text": [
      "100%|██████████| 119/119 [00:27<00:00,  4.27it/s]\n",
      "  0%|          | 0/119 [00:00<?, ?it/s]"
     ]
    },
    {
     "name": "stdout",
     "output_type": "stream",
     "text": [
      "#0 Loss: 1.4256 Acc: 86.7064 F1 Score: 0.7416 % Time: 31.5236s\n",
      "Valid Loss: 36.3303 Valid Acc: 14.2857 F1 Score: 0.0833\n"
     ]
    },
    {
     "name": "stderr",
     "output_type": "stream",
     "text": [
      "100%|██████████| 119/119 [00:27<00:00,  4.31it/s]\n",
      "  0%|          | 0/119 [00:00<?, ?it/s]"
     ]
    },
    {
     "name": "stdout",
     "output_type": "stream",
     "text": [
      "#1 Loss: nan Acc: 65.5026 F1 Score: 0.2639 % Time: 62.7143s\n",
      "Valid Loss: nan Valid Acc: 71.4286 F1 Score: 0.2778\n"
     ]
    },
    {
     "name": "stderr",
     "output_type": "stream",
     "text": [
      "  6%|▌         | 7/119 [00:02<00:42,  2.61it/s]\n"
     ]
    },
    {
     "ename": "KeyboardInterrupt",
     "evalue": "",
     "output_type": "error",
     "traceback": [
      "\u001b[0;31m---------------------------------------------------------------------------\u001b[0m",
      "\u001b[0;31mKeyboardInterrupt\u001b[0m                         Traceback (most recent call last)",
      "\u001b[0;32m<ipython-input-19-edfe2fbc150b>\u001b[0m in \u001b[0;36m<module>\u001b[0;34m\u001b[0m\n\u001b[0;32m----> 1\u001b[0;31m \u001b[0msubmission\u001b[0m\u001b[0;34m,\u001b[0m \u001b[0mv_p_m\u001b[0m\u001b[0;34m,\u001b[0m \u001b[0mv_l_m\u001b[0m\u001b[0;34m,\u001b[0m \u001b[0mv_i_m\u001b[0m\u001b[0;34m,\u001b[0m \u001b[0mm_c\u001b[0m \u001b[0;34m=\u001b[0m \u001b[0mmodel_run\u001b[0m\u001b[0;34m(\u001b[0m\u001b[0;34m'mask'\u001b[0m\u001b[0;34m,\u001b[0m \u001b[0msubmission\u001b[0m\u001b[0;34m.\u001b[0m\u001b[0mcopy\u001b[0m\u001b[0;34m(\u001b[0m\u001b[0;34m)\u001b[0m\u001b[0;34m,\u001b[0m \u001b[0mtest_dir\u001b[0m\u001b[0;34m)\u001b[0m\u001b[0;34m\u001b[0m\u001b[0;34m\u001b[0m\u001b[0m\n\u001b[0m",
      "\u001b[0;32m<ipython-input-18-239b04a1bf90>\u001b[0m in \u001b[0;36mmodel_run\u001b[0;34m(target, sub_df, test_dir, learning_rate)\u001b[0m\n\u001b[1;32m     58\u001b[0m             \u001b[0moptimizer\u001b[0m\u001b[0;34m.\u001b[0m\u001b[0mstep\u001b[0m\u001b[0;34m(\u001b[0m\u001b[0;34m)\u001b[0m\u001b[0;34m\u001b[0m\u001b[0;34m\u001b[0m\u001b[0m\n\u001b[1;32m     59\u001b[0m \u001b[0;34m\u001b[0m\u001b[0m\n\u001b[0;32m---> 60\u001b[0;31m             \u001b[0mall_labels\u001b[0m\u001b[0;34m.\u001b[0m\u001b[0mextend\u001b[0m\u001b[0;34m(\u001b[0m\u001b[0mlabels\u001b[0m\u001b[0;34m.\u001b[0m\u001b[0mdata\u001b[0m\u001b[0;34m.\u001b[0m\u001b[0mcpu\u001b[0m\u001b[0;34m(\u001b[0m\u001b[0;34m)\u001b[0m\u001b[0;34m.\u001b[0m\u001b[0mnumpy\u001b[0m\u001b[0;34m(\u001b[0m\u001b[0;34m)\u001b[0m\u001b[0;34m)\u001b[0m\u001b[0;34m\u001b[0m\u001b[0;34m\u001b[0m\u001b[0m\n\u001b[0m\u001b[1;32m     61\u001b[0m \u001b[0;34m\u001b[0m\u001b[0m\n\u001b[1;32m     62\u001b[0m             \u001b[0mrunning_loss\u001b[0m \u001b[0;34m+=\u001b[0m \u001b[0mloss\u001b[0m\u001b[0;34m.\u001b[0m\u001b[0mitem\u001b[0m\u001b[0;34m(\u001b[0m\u001b[0;34m)\u001b[0m \u001b[0;34m*\u001b[0m \u001b[0minputs\u001b[0m\u001b[0;34m.\u001b[0m\u001b[0msize\u001b[0m\u001b[0;34m(\u001b[0m\u001b[0;36m0\u001b[0m\u001b[0;34m)\u001b[0m\u001b[0;34m\u001b[0m\u001b[0;34m\u001b[0m\u001b[0m\n",
      "\u001b[0;31mKeyboardInterrupt\u001b[0m: "
     ]
    }
   ],
   "source": [
    "submission, v_p_m, v_l_m, v_i_m, m_c = model_run('mask', submission.copy(), test_dir)"
   ]
  },
  {
   "cell_type": "code",
   "execution_count": null,
   "id": "0ab01988-767b-4794-80c0-852e43f70ecd",
   "metadata": {},
   "outputs": [],
   "source": [
    "for p, l, im in zip(v_p_m, v_l_m, v_i_m):\n",
    "    if p != l:\n",
    "        pred = m_c[p]\n",
    "        label = m_c[l]\n",
    "        \n",
    "        im = im.transpose((1, 2, 0))\n",
    "        \n",
    "        mean = np.array([0.485, 0.456, 0.406])\n",
    "        std = np.array([0.229, 0.224, 0.225])\n",
    "        im = std * im + mean\n",
    "        im = np.clip(im, 0, 1)\n",
    "        \n",
    "        print(f'pred: {pred} label: {label}')\n",
    "        plt.imshow(im)\n",
    "        plt.show()"
   ]
  },
  {
   "cell_type": "code",
   "execution_count": null,
   "id": "853c105e-900e-4914-b628-1ec254c38388",
   "metadata": {},
   "outputs": [],
   "source": [
    "submission, v_p_g, v_l_g, v_i_g, g_c = model_run('gender', submission.copy(), test_dir)"
   ]
  },
  {
   "cell_type": "code",
   "execution_count": 1,
   "id": "179f9db5-c84b-4531-9dd7-82d1270c1fdf",
   "metadata": {},
   "outputs": [
    {
     "ename": "NameError",
     "evalue": "name 'v_p_g' is not defined",
     "output_type": "error",
     "traceback": [
      "\u001b[0;31m---------------------------------------------------------------------------\u001b[0m",
      "\u001b[0;31mNameError\u001b[0m                                 Traceback (most recent call last)",
      "\u001b[0;32m<ipython-input-1-fc817de53862>\u001b[0m in \u001b[0;36m<module>\u001b[0;34m\u001b[0m\n\u001b[0;32m----> 1\u001b[0;31m \u001b[0;32mfor\u001b[0m \u001b[0mp\u001b[0m\u001b[0;34m,\u001b[0m \u001b[0ml\u001b[0m\u001b[0;34m,\u001b[0m \u001b[0mim\u001b[0m \u001b[0;32min\u001b[0m \u001b[0mzip\u001b[0m\u001b[0;34m(\u001b[0m\u001b[0mv_p_g\u001b[0m\u001b[0;34m,\u001b[0m \u001b[0mv_l_g\u001b[0m\u001b[0;34m,\u001b[0m \u001b[0mv_i_g\u001b[0m\u001b[0;34m)\u001b[0m\u001b[0;34m:\u001b[0m\u001b[0;34m\u001b[0m\u001b[0;34m\u001b[0m\u001b[0m\n\u001b[0m\u001b[1;32m      2\u001b[0m     \u001b[0;32mif\u001b[0m \u001b[0mp\u001b[0m \u001b[0;34m!=\u001b[0m \u001b[0ml\u001b[0m\u001b[0;34m:\u001b[0m\u001b[0;34m\u001b[0m\u001b[0;34m\u001b[0m\u001b[0m\n\u001b[1;32m      3\u001b[0m         \u001b[0mpred\u001b[0m \u001b[0;34m=\u001b[0m \u001b[0mg_c\u001b[0m\u001b[0;34m[\u001b[0m\u001b[0mp\u001b[0m\u001b[0;34m]\u001b[0m\u001b[0;34m\u001b[0m\u001b[0;34m\u001b[0m\u001b[0m\n\u001b[1;32m      4\u001b[0m         \u001b[0mlabel\u001b[0m \u001b[0;34m=\u001b[0m \u001b[0mg_c\u001b[0m\u001b[0;34m[\u001b[0m\u001b[0ml\u001b[0m\u001b[0;34m]\u001b[0m\u001b[0;34m\u001b[0m\u001b[0;34m\u001b[0m\u001b[0m\n\u001b[1;32m      5\u001b[0m \u001b[0;34m\u001b[0m\u001b[0m\n",
      "\u001b[0;31mNameError\u001b[0m: name 'v_p_g' is not defined"
     ]
    }
   ],
   "source": [
    "for p, l, im in zip(v_p_g, v_l_g, v_i_g):\n",
    "    if p != l:\n",
    "        pred = g_c[p]\n",
    "        label = g_c[l]\n",
    "        \n",
    "        im = im.transpose((1, 2, 0))\n",
    "        \n",
    "        mean = np.array([0.485, 0.456, 0.406])\n",
    "        std = np.array([0.229, 0.224, 0.225])\n",
    "        im = std * im + mean\n",
    "        im = np.clip(im, 0, 1)\n",
    "        \n",
    "        print(f'pred: {pred} label: {label}')\n",
    "        plt.imshow(im)\n",
    "        plt.show()"
   ]
  },
  {
   "cell_type": "code",
   "execution_count": 18,
   "id": "9eb4e4f2-73fb-417a-84e8-2744a3fd4496",
   "metadata": {},
   "outputs": [
    {
     "name": "stderr",
     "output_type": "stream",
     "text": [
      "  0%|          | 32/18900 [00:00<01:00, 313.98it/s]"
     ]
    },
    {
     "name": "stdout",
     "output_type": "stream",
     "text": [
      "*****age*****\n",
      "Dataset ImageFolder\n",
      "    Number of datapoints: 18900\n",
      "    Root location: /opt/ml/input/cropped_v2.1/train/images_classified_age/\n",
      "    StandardTransform\n",
      "Transform: Compose(\n",
      "               Resize(size=(224, 224), interpolation=PIL.Image.BILINEAR)\n",
      "               ToTensor()\n",
      "               Normalize(mean=[0.485, 0.456, 0.406], std=[0.229, 0.224, 0.225])\n",
      "           )\n",
      "\n",
      "['0', '1', '2']\n",
      "\n",
      "****train, valid split****\n"
     ]
    },
    {
     "name": "stderr",
     "output_type": "stream",
     "text": [
      "100%|██████████| 18900/18900 [00:55<00:00, 338.43it/s]\n",
      "100%|██████████| 18900/18900 [00:55<00:00, 337.51it/s]\n",
      "100%|██████████| 18900/18900 [00:56<00:00, 336.21it/s]\n",
      "  0%|          | 33/18900 [00:00<00:57, 326.65it/s]"
     ]
    },
    {
     "name": "stdout",
     "output_type": "stream",
     "text": [
      "****data augmentation****\n"
     ]
    },
    {
     "name": "stderr",
     "output_type": "stream",
     "text": [
      "100%|██████████| 18900/18900 [00:56<00:00, 335.01it/s]\n",
      "  0%|          | 0/127 [00:00<?, ?it/s]"
     ]
    },
    {
     "name": "stdout",
     "output_type": "stream",
     "text": [
      "****start epoch****\n"
     ]
    },
    {
     "name": "stderr",
     "output_type": "stream",
     "text": [
      "100%|██████████| 127/127 [00:20<00:00,  6.13it/s]\n",
      "  0%|          | 0/127 [00:00<?, ?it/s]"
     ]
    },
    {
     "name": "stdout",
     "output_type": "stream",
     "text": [
      "#0 Loss: 1.0329 Acc: 45.0784 F1 Score: 0.3287 % Time: 23.7580s\n",
      "Valid Loss: 0.9156 Valid Acc: 55.5938 Valid F1 Score: 0.3977\n"
     ]
    },
    {
     "name": "stderr",
     "output_type": "stream",
     "text": [
      "100%|██████████| 127/127 [00:20<00:00,  6.28it/s]\n",
      "  0%|          | 0/127 [00:00<?, ?it/s]"
     ]
    },
    {
     "name": "stdout",
     "output_type": "stream",
     "text": [
      "#1 Loss: 0.8644 Acc: 62.7331 F1 Score: 0.4602 % Time: 46.9755s\n",
      "Valid Loss: 0.7937 Valid Acc: 65.0622 Valid F1 Score: 0.4579\n"
     ]
    },
    {
     "name": "stderr",
     "output_type": "stream",
     "text": [
      "100%|██████████| 127/127 [00:20<00:00,  6.25it/s]\n",
      "  0%|          | 0/127 [00:00<?, ?it/s]"
     ]
    },
    {
     "name": "stdout",
     "output_type": "stream",
     "text": [
      "#2 Loss: 0.6952 Acc: 74.8672 F1 Score: 0.5711 % Time: 70.3059s\n",
      "Valid Loss: 0.7207 Valid Acc: 69.3996 Valid F1 Score: 0.5048\n"
     ]
    },
    {
     "name": "stderr",
     "output_type": "stream",
     "text": [
      "100%|██████████| 127/127 [00:20<00:00,  6.30it/s]\n",
      "  0%|          | 0/127 [00:00<?, ?it/s]"
     ]
    },
    {
     "name": "stdout",
     "output_type": "stream",
     "text": [
      "#3 Loss: 0.5661 Acc: 79.8876 F1 Score: 0.6508 % Time: 93.5358s\n",
      "Valid Loss: 0.6614 Valid Acc: 72.0709 Valid F1 Score: 0.5429\n"
     ]
    },
    {
     "name": "stderr",
     "output_type": "stream",
     "text": [
      "100%|██████████| 127/127 [00:20<00:00,  6.28it/s]\n",
      "  0%|          | 0/127 [00:00<?, ?it/s]"
     ]
    },
    {
     "name": "stdout",
     "output_type": "stream",
     "text": [
      "#4 Loss: 0.4773 Acc: 82.6232 F1 Score: 0.7070 % Time: 116.8610s\n",
      "Valid Loss: 0.6176 Valid Acc: 74.8215 Valid F1 Score: 0.5826\n"
     ]
    },
    {
     "name": "stderr",
     "output_type": "stream",
     "text": [
      "100%|██████████| 127/127 [00:20<00:00,  6.26it/s]\n",
      "  0%|          | 0/127 [00:00<?, ?it/s]"
     ]
    },
    {
     "name": "stdout",
     "output_type": "stream",
     "text": [
      "#5 Loss: 0.4193 Acc: 84.4016 F1 Score: 0.7479 % Time: 140.2091s\n",
      "Valid Loss: 0.5951 Valid Acc: 75.9323 Valid F1 Score: 0.6163\n"
     ]
    },
    {
     "name": "stderr",
     "output_type": "stream",
     "text": [
      "100%|██████████| 127/127 [00:20<00:00,  6.24it/s]\n",
      "  0%|          | 0/127 [00:00<?, ?it/s]"
     ]
    },
    {
     "name": "stdout",
     "output_type": "stream",
     "text": [
      "#6 Loss: 0.3807 Acc: 85.5564 F1 Score: 0.7745 % Time: 163.5504s\n",
      "Valid Loss: 0.5955 Valid Acc: 76.3026 Valid F1 Score: 0.6270\n"
     ]
    },
    {
     "name": "stderr",
     "output_type": "stream",
     "text": [
      "100%|██████████| 127/127 [00:20<00:00,  6.28it/s]\n",
      "  0%|          | 0/127 [00:00<?, ?it/s]"
     ]
    },
    {
     "name": "stdout",
     "output_type": "stream",
     "text": [
      "#7 Loss: 0.3538 Acc: 86.1862 F1 Score: 0.7861 % Time: 186.8564s\n",
      "Valid Loss: 0.5633 Valid Acc: 77.5192 Valid F1 Score: 0.6422\n"
     ]
    },
    {
     "name": "stderr",
     "output_type": "stream",
     "text": [
      "100%|██████████| 127/127 [00:20<00:00,  6.32it/s]\n",
      "  0%|          | 0/127 [00:00<?, ?it/s]"
     ]
    },
    {
     "name": "stdout",
     "output_type": "stream",
     "text": [
      "#8 Loss: 0.3341 Acc: 86.8099 F1 Score: 0.7991 % Time: 210.0780s\n",
      "Valid Loss: 0.5333 Valid Acc: 79.1061 Valid F1 Score: 0.6633\n"
     ]
    },
    {
     "name": "stderr",
     "output_type": "stream",
     "text": [
      "100%|██████████| 127/127 [00:20<00:00,  6.30it/s]\n",
      "  0%|          | 0/127 [00:00<?, ?it/s]"
     ]
    },
    {
     "name": "stdout",
     "output_type": "stream",
     "text": [
      "#9 Loss: 0.3190 Acc: 87.1681 F1 Score: 0.8073 % Time: 233.2029s\n",
      "Valid Loss: 0.5382 Valid Acc: 78.7358 Valid F1 Score: 0.6598\n"
     ]
    },
    {
     "name": "stderr",
     "output_type": "stream",
     "text": [
      "100%|██████████| 127/127 [00:20<00:00,  6.31it/s]\n",
      "  0%|          | 0/127 [00:00<?, ?it/s]"
     ]
    },
    {
     "name": "stdout",
     "output_type": "stream",
     "text": [
      "#10 Loss: 0.3067 Acc: 87.6806 F1 Score: 0.8160 % Time: 256.3518s\n",
      "Valid Loss: 0.5405 Valid Acc: 78.9738 Valid F1 Score: 0.6652\n"
     ]
    },
    {
     "name": "stderr",
     "output_type": "stream",
     "text": [
      "100%|██████████| 127/127 [00:20<00:00,  6.29it/s]\n",
      "  0%|          | 0/127 [00:00<?, ?it/s]"
     ]
    },
    {
     "name": "stdout",
     "output_type": "stream",
     "text": [
      "#11 Loss: 0.2962 Acc: 88.1067 F1 Score: 0.8229 % Time: 279.4974s\n",
      "Valid Loss: 0.5590 Valid Acc: 78.5242 Valid F1 Score: 0.6661\n"
     ]
    },
    {
     "name": "stderr",
     "output_type": "stream",
     "text": [
      "100%|██████████| 127/127 [00:20<00:00,  6.29it/s]\n",
      "  0%|          | 0/127 [00:00<?, ?it/s]"
     ]
    },
    {
     "name": "stdout",
     "output_type": "stream",
     "text": [
      "#12 Loss: 0.2872 Acc: 88.4525 F1 Score: 0.8291 % Time: 302.7279s\n",
      "Valid Loss: 0.5493 Valid Acc: 79.0267 Valid F1 Score: 0.6760\n"
     ]
    },
    {
     "name": "stderr",
     "output_type": "stream",
     "text": [
      "100%|██████████| 127/127 [00:20<00:00,  6.32it/s]\n",
      "  0%|          | 0/127 [00:00<?, ?it/s]"
     ]
    },
    {
     "name": "stdout",
     "output_type": "stream",
     "text": [
      "#13 Loss: 0.2795 Acc: 88.7119 F1 Score: 0.8333 % Time: 325.8026s\n",
      "Valid Loss: 0.5243 Valid Acc: 79.9259 Valid F1 Score: 0.6777\n"
     ]
    },
    {
     "name": "stderr",
     "output_type": "stream",
     "text": [
      "100%|██████████| 127/127 [00:20<00:00,  6.28it/s]\n",
      "  0%|          | 0/127 [00:00<?, ?it/s]"
     ]
    },
    {
     "name": "stdout",
     "output_type": "stream",
     "text": [
      "#14 Loss: 0.2724 Acc: 89.0453 F1 Score: 0.8381 % Time: 349.0365s\n",
      "Valid Loss: 0.5381 Valid Acc: 79.6086 Valid F1 Score: 0.6812\n"
     ]
    },
    {
     "name": "stderr",
     "output_type": "stream",
     "text": [
      "100%|██████████| 127/127 [00:20<00:00,  6.27it/s]\n",
      "  0%|          | 0/127 [00:00<?, ?it/s]"
     ]
    },
    {
     "name": "stdout",
     "output_type": "stream",
     "text": [
      "#15 Loss: 0.2663 Acc: 89.2429 F1 Score: 0.8416 % Time: 372.3059s\n",
      "Valid Loss: 0.5228 Valid Acc: 80.2433 Valid F1 Score: 0.6865\n"
     ]
    },
    {
     "name": "stderr",
     "output_type": "stream",
     "text": [
      "100%|██████████| 127/127 [00:20<00:00,  6.30it/s]\n",
      "  0%|          | 0/127 [00:00<?, ?it/s]"
     ]
    },
    {
     "name": "stdout",
     "output_type": "stream",
     "text": [
      "#16 Loss: 0.2602 Acc: 89.6999 F1 Score: 0.8483 % Time: 395.4608s\n",
      "Valid Loss: 0.5541 Valid Acc: 79.4234 Valid F1 Score: 0.6764\n"
     ]
    },
    {
     "name": "stderr",
     "output_type": "stream",
     "text": [
      "100%|██████████| 127/127 [00:20<00:00,  6.30it/s]\n",
      "  0%|          | 0/127 [00:00<?, ?it/s]"
     ]
    },
    {
     "name": "stdout",
     "output_type": "stream",
     "text": [
      "#17 Loss: 0.2553 Acc: 89.9037 F1 Score: 0.8512 % Time: 418.6765s\n",
      "Valid Loss: 0.5232 Valid Acc: 80.5342 Valid F1 Score: 0.6930\n"
     ]
    },
    {
     "name": "stderr",
     "output_type": "stream",
     "text": [
      "100%|██████████| 127/127 [00:20<00:00,  6.30it/s]\n",
      "  0%|          | 0/127 [00:00<?, ?it/s]"
     ]
    },
    {
     "name": "stdout",
     "output_type": "stream",
     "text": [
      "#18 Loss: 0.2501 Acc: 90.0333 F1 Score: 0.8541 % Time: 441.7427s\n",
      "Valid Loss: 0.5706 Valid Acc: 79.0532 Valid F1 Score: 0.6776\n"
     ]
    },
    {
     "name": "stderr",
     "output_type": "stream",
     "text": [
      "100%|██████████| 127/127 [00:20<00:00,  6.27it/s]\n",
      "  0%|          | 0/127 [00:00<?, ?it/s]"
     ]
    },
    {
     "name": "stdout",
     "output_type": "stream",
     "text": [
      "#19 Loss: 0.2450 Acc: 90.2803 F1 Score: 0.8568 % Time: 464.8974s\n",
      "Valid Loss: 0.5827 Valid Acc: 78.9738 Valid F1 Score: 0.6829\n"
     ]
    },
    {
     "name": "stderr",
     "output_type": "stream",
     "text": [
      "100%|██████████| 127/127 [00:20<00:00,  6.26it/s]\n",
      "  0%|          | 0/127 [00:00<?, ?it/s]"
     ]
    },
    {
     "name": "stdout",
     "output_type": "stream",
     "text": [
      "#20 Loss: 0.2409 Acc: 90.4903 F1 Score: 0.8604 % Time: 488.2609s\n",
      "Valid Loss: 0.4959 Valid Acc: 81.5128 Valid F1 Score: 0.6980\n"
     ]
    },
    {
     "name": "stderr",
     "output_type": "stream",
     "text": [
      "100%|██████████| 127/127 [00:20<00:00,  6.29it/s]\n",
      "  0%|          | 0/127 [00:00<?, ?it/s]"
     ]
    },
    {
     "name": "stdout",
     "output_type": "stream",
     "text": [
      "#21 Loss: 0.2364 Acc: 90.6323 F1 Score: 0.8630 % Time: 511.4204s\n",
      "Valid Loss: 0.5102 Valid Acc: 81.3541 Valid F1 Score: 0.7002\n"
     ]
    },
    {
     "name": "stderr",
     "output_type": "stream",
     "text": [
      "100%|██████████| 127/127 [00:20<00:00,  6.30it/s]\n",
      "  0%|          | 0/127 [00:00<?, ?it/s]"
     ]
    },
    {
     "name": "stdout",
     "output_type": "stream",
     "text": [
      "#22 Loss: 0.2324 Acc: 90.7744 F1 Score: 0.8649 % Time: 534.7100s\n",
      "Valid Loss: 0.5495 Valid Acc: 80.2169 Valid F1 Score: 0.6953\n"
     ]
    },
    {
     "name": "stderr",
     "output_type": "stream",
     "text": [
      "100%|██████████| 127/127 [00:20<00:00,  6.27it/s]\n",
      "  0%|          | 0/127 [00:00<?, ?it/s]"
     ]
    },
    {
     "name": "stdout",
     "output_type": "stream",
     "text": [
      "#23 Loss: 0.2286 Acc: 91.0769 F1 Score: 0.8692 % Time: 558.0291s\n",
      "Valid Loss: 0.4928 Valid Acc: 82.0418 Valid F1 Score: 0.7075\n"
     ]
    },
    {
     "name": "stderr",
     "output_type": "stream",
     "text": [
      "100%|██████████| 127/127 [00:20<00:00,  6.27it/s]\n",
      "  0%|          | 0/127 [00:00<?, ?it/s]"
     ]
    },
    {
     "name": "stdout",
     "output_type": "stream",
     "text": [
      "#24 Loss: 0.2247 Acc: 91.2251 F1 Score: 0.8719 % Time: 581.2150s\n",
      "Valid Loss: 0.5375 Valid Acc: 80.9045 Valid F1 Score: 0.7030\n"
     ]
    },
    {
     "name": "stderr",
     "output_type": "stream",
     "text": [
      "100%|██████████| 127/127 [00:20<00:00,  6.26it/s]\n",
      "  0%|          | 0/127 [00:00<?, ?it/s]"
     ]
    },
    {
     "name": "stdout",
     "output_type": "stream",
     "text": [
      "#25 Loss: 0.2213 Acc: 91.2745 F1 Score: 0.8724 % Time: 604.5083s\n",
      "Valid Loss: 0.5588 Valid Acc: 80.2169 Valid F1 Score: 0.6972\n"
     ]
    },
    {
     "name": "stderr",
     "output_type": "stream",
     "text": [
      "100%|██████████| 127/127 [00:20<00:00,  6.28it/s]\n",
      "  0%|          | 0/127 [00:00<?, ?it/s]"
     ]
    },
    {
     "name": "stdout",
     "output_type": "stream",
     "text": [
      "#26 Loss: 0.2177 Acc: 91.5648 F1 Score: 0.8766 % Time: 627.7380s\n",
      "Valid Loss: 0.5303 Valid Acc: 81.2484 Valid F1 Score: 0.7023\n"
     ]
    },
    {
     "name": "stderr",
     "output_type": "stream",
     "text": [
      "100%|██████████| 127/127 [00:20<00:00,  6.32it/s]\n",
      "  0%|          | 0/127 [00:00<?, ?it/s]"
     ]
    },
    {
     "name": "stdout",
     "output_type": "stream",
     "text": [
      "#27 Loss: 0.2151 Acc: 91.6389 F1 Score: 0.8780 % Time: 650.7628s\n",
      "Valid Loss: 0.5394 Valid Acc: 81.1426 Valid F1 Score: 0.7064\n"
     ]
    },
    {
     "name": "stderr",
     "output_type": "stream",
     "text": [
      "100%|██████████| 127/127 [00:20<00:00,  6.34it/s]\n",
      "  0%|          | 0/127 [00:00<?, ?it/s]"
     ]
    },
    {
     "name": "stdout",
     "output_type": "stream",
     "text": [
      "#28 Loss: 0.2113 Acc: 91.8427 F1 Score: 0.8811 % Time: 673.8741s\n",
      "Valid Loss: 0.5441 Valid Acc: 81.0632 Valid F1 Score: 0.7057\n"
     ]
    },
    {
     "name": "stderr",
     "output_type": "stream",
     "text": [
      "100%|██████████| 127/127 [00:20<00:00,  6.29it/s]\n",
      "  0%|          | 0/127 [00:00<?, ?it/s]"
     ]
    },
    {
     "name": "stdout",
     "output_type": "stream",
     "text": [
      "#29 Loss: 0.2077 Acc: 92.0032 F1 Score: 0.8830 % Time: 697.0409s\n",
      "Valid Loss: 0.5833 Valid Acc: 79.6350 Valid F1 Score: 0.6976\n"
     ]
    },
    {
     "name": "stderr",
     "output_type": "stream",
     "text": [
      "100%|██████████| 127/127 [00:20<00:00,  6.27it/s]\n",
      "  0%|          | 0/127 [00:00<?, ?it/s]"
     ]
    },
    {
     "name": "stdout",
     "output_type": "stream",
     "text": [
      "#30 Loss: 0.2053 Acc: 92.1267 F1 Score: 0.8860 % Time: 720.5503s\n",
      "Valid Loss: 0.5466 Valid Acc: 81.2748 Valid F1 Score: 0.7085\n"
     ]
    },
    {
     "name": "stderr",
     "output_type": "stream",
     "text": [
      "100%|██████████| 127/127 [00:20<00:00,  6.31it/s]\n",
      "  0%|          | 0/127 [00:00<?, ?it/s]"
     ]
    },
    {
     "name": "stdout",
     "output_type": "stream",
     "text": [
      "#31 Loss: 0.2024 Acc: 92.2749 F1 Score: 0.8875 % Time: 743.7289s\n",
      "Valid Loss: 0.5355 Valid Acc: 81.5128 Valid F1 Score: 0.7126\n"
     ]
    },
    {
     "name": "stderr",
     "output_type": "stream",
     "text": [
      "100%|██████████| 127/127 [00:20<00:00,  6.28it/s]\n",
      "  0%|          | 0/127 [00:00<?, ?it/s]"
     ]
    },
    {
     "name": "stdout",
     "output_type": "stream",
     "text": [
      "#32 Loss: 0.1994 Acc: 92.3552 F1 Score: 0.8887 % Time: 766.9627s\n",
      "Valid Loss: 0.5727 Valid Acc: 80.2962 Valid F1 Score: 0.7029\n"
     ]
    },
    {
     "name": "stderr",
     "output_type": "stream",
     "text": [
      "100%|██████████| 127/127 [00:20<00:00,  6.31it/s]\n",
      "  0%|          | 0/127 [00:00<?, ?it/s]"
     ]
    },
    {
     "name": "stdout",
     "output_type": "stream",
     "text": [
      "#33 Loss: 0.1963 Acc: 92.5713 F1 Score: 0.8919 % Time: 790.0838s\n",
      "Valid Loss: 0.5363 Valid Acc: 81.5922 Valid F1 Score: 0.7127\n"
     ]
    },
    {
     "name": "stderr",
     "output_type": "stream",
     "text": [
      "100%|██████████| 127/127 [00:20<00:00,  6.29it/s]\n",
      "  0%|          | 0/127 [00:00<?, ?it/s]"
     ]
    },
    {
     "name": "stdout",
     "output_type": "stream",
     "text": [
      "#34 Loss: 0.1938 Acc: 92.5713 F1 Score: 0.8914 % Time: 813.2112s\n",
      "Valid Loss: 0.5229 Valid Acc: 81.9360 Valid F1 Score: 0.7165\n"
     ]
    },
    {
     "name": "stderr",
     "output_type": "stream",
     "text": [
      "100%|██████████| 127/127 [00:20<00:00,  6.29it/s]\n",
      "  0%|          | 0/127 [00:00<?, ?it/s]"
     ]
    },
    {
     "name": "stdout",
     "output_type": "stream",
     "text": [
      "#35 Loss: 0.1911 Acc: 92.6825 F1 Score: 0.8938 % Time: 836.3786s\n",
      "Valid Loss: 0.4837 Valid Acc: 83.1791 Valid F1 Score: 0.7267\n"
     ]
    },
    {
     "name": "stderr",
     "output_type": "stream",
     "text": [
      "100%|██████████| 127/127 [00:20<00:00,  6.27it/s]\n",
      "  0%|          | 0/127 [00:00<?, ?it/s]"
     ]
    },
    {
     "name": "stdout",
     "output_type": "stream",
     "text": [
      "#36 Loss: 0.1888 Acc: 92.7813 F1 Score: 0.8942 % Time: 859.6693s\n",
      "Valid Loss: 0.5557 Valid Acc: 81.3277 Valid F1 Score: 0.7115\n"
     ]
    },
    {
     "name": "stderr",
     "output_type": "stream",
     "text": [
      "100%|██████████| 127/127 [00:20<00:00,  6.31it/s]\n",
      "  0%|          | 0/127 [00:00<?, ?it/s]"
     ]
    },
    {
     "name": "stdout",
     "output_type": "stream",
     "text": [
      "#37 Loss: 0.1859 Acc: 92.9171 F1 Score: 0.8960 % Time: 882.8685s\n",
      "Valid Loss: 0.5349 Valid Acc: 81.9095 Valid F1 Score: 0.7184\n"
     ]
    },
    {
     "name": "stderr",
     "output_type": "stream",
     "text": [
      "100%|██████████| 127/127 [00:20<00:00,  6.33it/s]\n",
      "  0%|          | 0/127 [00:00<?, ?it/s]"
     ]
    },
    {
     "name": "stdout",
     "output_type": "stream",
     "text": [
      "#38 Loss: 0.1834 Acc: 92.9171 F1 Score: 0.8965 % Time: 905.9777s\n",
      "Valid Loss: 0.5268 Valid Acc: 82.2005 Valid F1 Score: 0.7192\n"
     ]
    },
    {
     "name": "stderr",
     "output_type": "stream",
     "text": [
      "100%|██████████| 127/127 [00:20<00:00,  6.30it/s]\n",
      "  0%|          | 0/127 [00:00<?, ?it/s]"
     ]
    },
    {
     "name": "stdout",
     "output_type": "stream",
     "text": [
      "#39 Loss: 0.1807 Acc: 93.1024 F1 Score: 0.8992 % Time: 929.2603s\n",
      "Valid Loss: 0.5433 Valid Acc: 81.7244 Valid F1 Score: 0.7190\n"
     ]
    },
    {
     "name": "stderr",
     "output_type": "stream",
     "text": [
      "100%|██████████| 127/127 [00:20<00:00,  6.29it/s]\n",
      "  0%|          | 0/127 [00:00<?, ?it/s]"
     ]
    },
    {
     "name": "stdout",
     "output_type": "stream",
     "text": [
      "#40 Loss: 0.1784 Acc: 93.0900 F1 Score: 0.8995 % Time: 952.3380s\n",
      "Valid Loss: 0.6039 Valid Acc: 80.1904 Valid F1 Score: 0.7004\n"
     ]
    },
    {
     "name": "stderr",
     "output_type": "stream",
     "text": [
      "100%|██████████| 127/127 [00:20<00:00,  6.32it/s]\n",
      "  0%|          | 0/127 [00:00<?, ?it/s]"
     ]
    },
    {
     "name": "stdout",
     "output_type": "stream",
     "text": [
      "#41 Loss: 0.1762 Acc: 93.2259 F1 Score: 0.9008 % Time: 975.4431s\n",
      "Valid Loss: 0.6088 Valid Acc: 79.8466 Valid F1 Score: 0.7019\n"
     ]
    },
    {
     "name": "stderr",
     "output_type": "stream",
     "text": [
      "100%|██████████| 127/127 [00:20<00:00,  6.31it/s]\n",
      "  0%|          | 0/127 [00:00<?, ?it/s]"
     ]
    },
    {
     "name": "stdout",
     "output_type": "stream",
     "text": [
      "#42 Loss: 0.1741 Acc: 93.3000 F1 Score: 0.9019 % Time: 998.4996s\n",
      "Valid Loss: 0.5368 Valid Acc: 82.2269 Valid F1 Score: 0.7212\n"
     ]
    },
    {
     "name": "stderr",
     "output_type": "stream",
     "text": [
      "100%|██████████| 127/127 [00:20<00:00,  6.26it/s]\n",
      "  0%|          | 0/127 [00:00<?, ?it/s]"
     ]
    },
    {
     "name": "stdout",
     "output_type": "stream",
     "text": [
      "#43 Loss: 0.1712 Acc: 93.4667 F1 Score: 0.9043 % Time: 1021.8061s\n",
      "Valid Loss: 0.5101 Valid Acc: 82.9939 Valid F1 Score: 0.7299\n"
     ]
    },
    {
     "name": "stderr",
     "output_type": "stream",
     "text": [
      "100%|██████████| 127/127 [00:20<00:00,  6.29it/s]\n",
      "  0%|          | 0/127 [00:00<?, ?it/s]"
     ]
    },
    {
     "name": "stdout",
     "output_type": "stream",
     "text": [
      "#44 Loss: 0.1689 Acc: 93.5223 F1 Score: 0.9053 % Time: 1045.0207s\n",
      "Valid Loss: 0.5328 Valid Acc: 82.5707 Valid F1 Score: 0.7254\n"
     ]
    },
    {
     "name": "stderr",
     "output_type": "stream",
     "text": [
      "100%|██████████| 127/127 [00:20<00:00,  6.28it/s]\n",
      "  0%|          | 0/127 [00:00<?, ?it/s]"
     ]
    },
    {
     "name": "stdout",
     "output_type": "stream",
     "text": [
      "#45 Loss: 0.1667 Acc: 93.6890 F1 Score: 0.9074 % Time: 1068.3007s\n",
      "Valid Loss: 0.5275 Valid Acc: 82.7559 Valid F1 Score: 0.7277\n"
     ]
    },
    {
     "name": "stderr",
     "output_type": "stream",
     "text": [
      "100%|██████████| 127/127 [00:20<00:00,  6.31it/s]\n",
      "  0%|          | 0/127 [00:00<?, ?it/s]"
     ]
    },
    {
     "name": "stdout",
     "output_type": "stream",
     "text": [
      "#46 Loss: 0.1644 Acc: 93.8063 F1 Score: 0.9097 % Time: 1091.3307s\n",
      "Valid Loss: 0.5370 Valid Acc: 82.3327 Valid F1 Score: 0.7229\n"
     ]
    },
    {
     "name": "stderr",
     "output_type": "stream",
     "text": [
      "100%|██████████| 127/127 [00:20<00:00,  6.28it/s]\n",
      "  0%|          | 0/127 [00:00<?, ?it/s]"
     ]
    },
    {
     "name": "stdout",
     "output_type": "stream",
     "text": [
      "#47 Loss: 0.1623 Acc: 93.7569 F1 Score: 0.9087 % Time: 1114.4906s\n",
      "Valid Loss: 0.5557 Valid Acc: 82.0682 Valid F1 Score: 0.7219\n"
     ]
    },
    {
     "name": "stderr",
     "output_type": "stream",
     "text": [
      "100%|██████████| 127/127 [00:20<00:00,  6.30it/s]\n",
      "  0%|          | 0/127 [00:00<?, ?it/s]"
     ]
    },
    {
     "name": "stdout",
     "output_type": "stream",
     "text": [
      "#48 Loss: 0.1603 Acc: 93.8249 F1 Score: 0.9106 % Time: 1137.6772s\n",
      "Valid Loss: 0.5274 Valid Acc: 82.9410 Valid F1 Score: 0.7277\n"
     ]
    },
    {
     "name": "stderr",
     "output_type": "stream",
     "text": [
      "100%|██████████| 127/127 [00:20<00:00,  6.31it/s]\n",
      "  0%|          | 0/99 [00:00<?, ?it/s]"
     ]
    },
    {
     "name": "stdout",
     "output_type": "stream",
     "text": [
      "#49 Loss: 0.1579 Acc: 93.9978 F1 Score: 0.9126 % Time: 1160.7892s\n",
      "Valid Loss: 0.5720 Valid Acc: 81.9889 Valid F1 Score: 0.7206\n"
     ]
    },
    {
     "name": "stderr",
     "output_type": "stream",
     "text": [
      "100%|██████████| 99/99 [00:07<00:00, 13.28it/s]\n"
     ]
    }
   ],
   "source": [
    "submission, v_p_a, v_l_a, v_i_a, a_c = model_run_age('age', submission.copy(), test_dir, 0.00007)"
   ]
  },
  {
   "cell_type": "code",
   "execution_count": 1,
   "id": "2df86e51-c223-437a-aa58-7fccf5fc1b5d",
   "metadata": {},
   "outputs": [
    {
     "ename": "NameError",
     "evalue": "name 'v_p_a' is not defined",
     "output_type": "error",
     "traceback": [
      "\u001b[0;31m---------------------------------------------------------------------------\u001b[0m",
      "\u001b[0;31mNameError\u001b[0m                                 Traceback (most recent call last)",
      "\u001b[0;32m<ipython-input-1-e45247332102>\u001b[0m in \u001b[0;36m<module>\u001b[0;34m\u001b[0m\n\u001b[0;32m----> 1\u001b[0;31m \u001b[0;32mfor\u001b[0m \u001b[0mp\u001b[0m\u001b[0;34m,\u001b[0m \u001b[0ml\u001b[0m\u001b[0;34m,\u001b[0m \u001b[0mim\u001b[0m \u001b[0;32min\u001b[0m \u001b[0mzip\u001b[0m\u001b[0;34m(\u001b[0m\u001b[0mv_p_a\u001b[0m\u001b[0;34m,\u001b[0m \u001b[0mv_l_a\u001b[0m\u001b[0;34m,\u001b[0m \u001b[0mv_i_a\u001b[0m\u001b[0;34m)\u001b[0m\u001b[0;34m:\u001b[0m\u001b[0;34m\u001b[0m\u001b[0;34m\u001b[0m\u001b[0m\n\u001b[0m\u001b[1;32m      2\u001b[0m     \u001b[0;32mif\u001b[0m \u001b[0mp\u001b[0m \u001b[0;34m!=\u001b[0m \u001b[0ml\u001b[0m\u001b[0;34m:\u001b[0m\u001b[0;34m\u001b[0m\u001b[0;34m\u001b[0m\u001b[0m\n\u001b[1;32m      3\u001b[0m         \u001b[0mpred\u001b[0m \u001b[0;34m=\u001b[0m \u001b[0ma_c\u001b[0m\u001b[0;34m[\u001b[0m\u001b[0mp\u001b[0m\u001b[0;34m]\u001b[0m\u001b[0;34m\u001b[0m\u001b[0;34m\u001b[0m\u001b[0m\n\u001b[1;32m      4\u001b[0m         \u001b[0mlabel\u001b[0m \u001b[0;34m=\u001b[0m \u001b[0ma_c\u001b[0m\u001b[0;34m[\u001b[0m\u001b[0ml\u001b[0m\u001b[0;34m]\u001b[0m\u001b[0;34m\u001b[0m\u001b[0;34m\u001b[0m\u001b[0m\n\u001b[1;32m      5\u001b[0m \u001b[0;34m\u001b[0m\u001b[0m\n",
      "\u001b[0;31mNameError\u001b[0m: name 'v_p_a' is not defined"
     ]
    }
   ],
   "source": [
    "for p, l, im in zip(v_p_a, v_l_a, v_i_a):\n",
    "    if p != l:\n",
    "        pred = a_c[p]\n",
    "        label = a_c[l]\n",
    "        \n",
    "        im = im.transpose((1, 2, 0))\n",
    "        \n",
    "        mean = np.array([0.485, 0.456, 0.406])\n",
    "        std = np.array([0.229, 0.224, 0.225])\n",
    "        im = std * im + mean\n",
    "        im = np.clip(im, 0, 1)\n",
    "        \n",
    "        print(f'pred: {pred} label: {label}')\n",
    "        plt.imshow(im)\n",
    "        plt.show()"
   ]
  },
  {
   "cell_type": "code",
   "execution_count": 20,
   "id": "6544f093-7973-4c0d-89b8-3a0c0379dbab",
   "metadata": {},
   "outputs": [],
   "source": [
    "submission = submission.astype({'age':'int','gender':'int','mask':'int'})"
   ]
  },
  {
   "cell_type": "code",
   "execution_count": 21,
   "id": "70c7513e-892a-4bf0-b520-224b5421620a",
   "metadata": {},
   "outputs": [
    {
     "data": {
      "text/html": [
       "<div>\n",
       "<style scoped>\n",
       "    .dataframe tbody tr th:only-of-type {\n",
       "        vertical-align: middle;\n",
       "    }\n",
       "\n",
       "    .dataframe tbody tr th {\n",
       "        vertical-align: top;\n",
       "    }\n",
       "\n",
       "    .dataframe thead th {\n",
       "        text-align: right;\n",
       "    }\n",
       "</style>\n",
       "<table border=\"1\" class=\"dataframe\">\n",
       "  <thead>\n",
       "    <tr style=\"text-align: right;\">\n",
       "      <th></th>\n",
       "      <th>ImageID</th>\n",
       "      <th>ans</th>\n",
       "    </tr>\n",
       "  </thead>\n",
       "  <tbody>\n",
       "    <tr>\n",
       "      <th>0</th>\n",
       "      <td>cbc5c6e168e63498590db46022617123f1fe1268.jpg</td>\n",
       "      <td>13</td>\n",
       "    </tr>\n",
       "    <tr>\n",
       "      <th>1</th>\n",
       "      <td>0e72482bf56b3581c081f7da2a6180b8792c7089.jpg</td>\n",
       "      <td>1</td>\n",
       "    </tr>\n",
       "    <tr>\n",
       "      <th>2</th>\n",
       "      <td>b549040c49190cedc41327748aeb197c1670f14d.jpg</td>\n",
       "      <td>13</td>\n",
       "    </tr>\n",
       "    <tr>\n",
       "      <th>3</th>\n",
       "      <td>4f9cb2a045c6d5b9e50ad3459ea7b791eb6e18bc.jpg</td>\n",
       "      <td>13</td>\n",
       "    </tr>\n",
       "    <tr>\n",
       "      <th>4</th>\n",
       "      <td>248428d9a4a5b6229a7081c32851b90cb8d38d0c.jpg</td>\n",
       "      <td>12</td>\n",
       "    </tr>\n",
       "    <tr>\n",
       "      <th>...</th>\n",
       "      <td>...</td>\n",
       "      <td>...</td>\n",
       "    </tr>\n",
       "    <tr>\n",
       "      <th>12595</th>\n",
       "      <td>d71d4570505d6af8f777690e63edfa8d85ea4476.jpg</td>\n",
       "      <td>1</td>\n",
       "    </tr>\n",
       "    <tr>\n",
       "      <th>12596</th>\n",
       "      <td>6cf1300e8e218716728d5820c0bab553306c2cfd.jpg</td>\n",
       "      <td>4</td>\n",
       "    </tr>\n",
       "    <tr>\n",
       "      <th>12597</th>\n",
       "      <td>8140edbba31c3a824e817e6d5fb95343199e2387.jpg</td>\n",
       "      <td>9</td>\n",
       "    </tr>\n",
       "    <tr>\n",
       "      <th>12598</th>\n",
       "      <td>030d439efe6fb5a7bafda45a393fc19f2bf57f54.jpg</td>\n",
       "      <td>0</td>\n",
       "    </tr>\n",
       "    <tr>\n",
       "      <th>12599</th>\n",
       "      <td>f1e0b9594ae9f72571f0a9dc67406ad41f2edab0.jpg</td>\n",
       "      <td>7</td>\n",
       "    </tr>\n",
       "  </tbody>\n",
       "</table>\n",
       "<p>12600 rows × 2 columns</p>\n",
       "</div>"
      ],
      "text/plain": [
       "                                            ImageID  ans\n",
       "0      cbc5c6e168e63498590db46022617123f1fe1268.jpg   13\n",
       "1      0e72482bf56b3581c081f7da2a6180b8792c7089.jpg    1\n",
       "2      b549040c49190cedc41327748aeb197c1670f14d.jpg   13\n",
       "3      4f9cb2a045c6d5b9e50ad3459ea7b791eb6e18bc.jpg   13\n",
       "4      248428d9a4a5b6229a7081c32851b90cb8d38d0c.jpg   12\n",
       "...                                             ...  ...\n",
       "12595  d71d4570505d6af8f777690e63edfa8d85ea4476.jpg    1\n",
       "12596  6cf1300e8e218716728d5820c0bab553306c2cfd.jpg    4\n",
       "12597  8140edbba31c3a824e817e6d5fb95343199e2387.jpg    9\n",
       "12598  030d439efe6fb5a7bafda45a393fc19f2bf57f54.jpg    0\n",
       "12599  f1e0b9594ae9f72571f0a9dc67406ad41f2edab0.jpg    7\n",
       "\n",
       "[12600 rows x 2 columns]"
      ]
     },
     "execution_count": 21,
     "metadata": {},
     "output_type": "execute_result"
    }
   ],
   "source": [
    "try : submission['ans'] = submission['mask'] + submission['gender'] + submission['age'] ; submission2 = submission.drop(['mask','gender','age'],axis=1)\n",
    "except : pass\n",
    "submission2"
   ]
  },
  {
   "cell_type": "code",
   "execution_count": 22,
   "id": "10f6790e-3883-4d9f-ba8b-1a818d4bdb3a",
   "metadata": {},
   "outputs": [],
   "source": [
    "submission2.to_csv(os.path.join(test_dir, 'submission.csv'), index=False)"
   ]
  },
  {
   "cell_type": "code",
   "execution_count": null,
   "id": "96dd0d0d-079b-4f1f-9762-1ae7372cfc30",
   "metadata": {},
   "outputs": [],
   "source": []
  }
 ],
 "metadata": {
  "kernelspec": {
   "display_name": "Python 3",
   "language": "python",
   "name": "python3"
  },
  "language_info": {
   "codemirror_mode": {
    "name": "ipython",
    "version": 3
   },
   "file_extension": ".py",
   "mimetype": "text/x-python",
   "name": "python",
   "nbconvert_exporter": "python",
   "pygments_lexer": "ipython3",
   "version": "3.8.5"
  }
 },
 "nbformat": 4,
 "nbformat_minor": 5
}

{
 "cells": [
  {
   "cell_type": "markdown",
   "id": "316eed17-68e1-40bb-b1f9-5d5b7966c882",
   "metadata": {},
   "source": [
    "# Data preprocessing"
   ]
  },
  {
   "cell_type": "code",
   "execution_count": 1,
   "id": "d42bcea7-1e6f-4e22-80c9-7c959ab4f271",
   "metadata": {},
   "outputs": [],
   "source": [
    "#이 코드 하나로 단일모델, 분리모델 모두 전처리 가능합니다.\n",
    "#이 부분을 채워주셔야 합니다.\n",
    "DATA_DIR = 'cropped_v2.1' # 혹은 data 등. 아래의 DATA_PATH를 참고하여 기입\n",
    "SEPERA = True # 분리하는 모델(종현모델)을 사용할 경우 True\n",
    "NORM = False #분리하지 않는 모델(정재님의 모델)을 사용할 경우 True\n",
    "# SEPERA와 NORM은 둘다 킬 수도 있습니다.(하지만 둘 중 하나는 반드시 켜야 합니다.)"
   ]
  },
  {
   "cell_type": "markdown",
   "id": "65e2bf17-eaeb-4e4d-b39d-8f0266479447",
   "metadata": {
    "tags": []
   },
   "source": [
    "## Gender Label Correction"
   ]
  },
  {
   "cell_type": "code",
   "execution_count": 2,
   "id": "7f4e0725-454d-4307-b683-dc09e610b6b6",
   "metadata": {},
   "outputs": [],
   "source": [
    "DATA_PATH = f'/opt/ml/input/{DATA_DIR}/train/'\n",
    "FILE_NAME = 'train.csv'"
   ]
  },
  {
   "cell_type": "code",
   "execution_count": 3,
   "id": "556156ea-1062-4555-a851-fda105423d21",
   "metadata": {},
   "outputs": [],
   "source": [
    "import pandas as pd\n",
    "#해당 경로에 train.csv 파일이 있어야 정상작동합니다.\n",
    "df = pd.read_csv(DATA_PATH+FILE_NAME)"
   ]
  },
  {
   "cell_type": "code",
   "execution_count": 4,
   "id": "56b00437-aab7-4134-bb8e-865fec755c95",
   "metadata": {},
   "outputs": [],
   "source": [
    "# 잘못 분류된 데이터 폴더명을 기입\n",
    "gender_f_to_m = [\n",
    "    '006359', \n",
    "    '006360', \n",
    "    '006361', \n",
    "    '006362', \n",
    "    '006363', \n",
    "    '006364', \n",
    "]\n",
    "\n",
    "gender_m_to_f = [\n",
    "    '001498-1',\n",
    "    '004432'\n",
    "]"
   ]
  },
  {
   "cell_type": "code",
   "execution_count": 6,
   "id": "7147254f-c11e-4d50-8b5c-f17eb6b0f9b2",
   "metadata": {},
   "outputs": [
    {
     "output_type": "execute_result",
     "data": {
      "text/plain": [
       "        gender   race  age                    path\n",
       "id                                                \n",
       "000001  female  Asian   45  000001_female_Asian_45\n",
       "000002  female  Asian   52  000002_female_Asian_52\n",
       "000004    male  Asian   54    000004_male_Asian_54\n",
       "000005  female  Asian   58  000005_female_Asian_58\n",
       "000006  female  Asian   59  000006_female_Asian_59\n",
       "...        ...    ...  ...                     ...\n",
       "006954    male  Asian   19    006954_male_Asian_19\n",
       "006955    male  Asian   19    006955_male_Asian_19\n",
       "006956    male  Asian   19    006956_male_Asian_19\n",
       "006957    male  Asian   20    006957_male_Asian_20\n",
       "006959    male  Asian   19    006959_male_Asian_19\n",
       "\n",
       "[2700 rows x 4 columns]"
      ],
      "text/html": "<div>\n<style scoped>\n    .dataframe tbody tr th:only-of-type {\n        vertical-align: middle;\n    }\n\n    .dataframe tbody tr th {\n        vertical-align: top;\n    }\n\n    .dataframe thead th {\n        text-align: right;\n    }\n</style>\n<table border=\"1\" class=\"dataframe\">\n  <thead>\n    <tr style=\"text-align: right;\">\n      <th></th>\n      <th>gender</th>\n      <th>race</th>\n      <th>age</th>\n      <th>path</th>\n    </tr>\n    <tr>\n      <th>id</th>\n      <th></th>\n      <th></th>\n      <th></th>\n      <th></th>\n    </tr>\n  </thead>\n  <tbody>\n    <tr>\n      <th>000001</th>\n      <td>female</td>\n      <td>Asian</td>\n      <td>45</td>\n      <td>000001_female_Asian_45</td>\n    </tr>\n    <tr>\n      <th>000002</th>\n      <td>female</td>\n      <td>Asian</td>\n      <td>52</td>\n      <td>000002_female_Asian_52</td>\n    </tr>\n    <tr>\n      <th>000004</th>\n      <td>male</td>\n      <td>Asian</td>\n      <td>54</td>\n      <td>000004_male_Asian_54</td>\n    </tr>\n    <tr>\n      <th>000005</th>\n      <td>female</td>\n      <td>Asian</td>\n      <td>58</td>\n      <td>000005_female_Asian_58</td>\n    </tr>\n    <tr>\n      <th>000006</th>\n      <td>female</td>\n      <td>Asian</td>\n      <td>59</td>\n      <td>000006_female_Asian_59</td>\n    </tr>\n    <tr>\n      <th>...</th>\n      <td>...</td>\n      <td>...</td>\n      <td>...</td>\n      <td>...</td>\n    </tr>\n    <tr>\n      <th>006954</th>\n      <td>male</td>\n      <td>Asian</td>\n      <td>19</td>\n      <td>006954_male_Asian_19</td>\n    </tr>\n    <tr>\n      <th>006955</th>\n      <td>male</td>\n      <td>Asian</td>\n      <td>19</td>\n      <td>006955_male_Asian_19</td>\n    </tr>\n    <tr>\n      <th>006956</th>\n      <td>male</td>\n      <td>Asian</td>\n      <td>19</td>\n      <td>006956_male_Asian_19</td>\n    </tr>\n    <tr>\n      <th>006957</th>\n      <td>male</td>\n      <td>Asian</td>\n      <td>20</td>\n      <td>006957_male_Asian_20</td>\n    </tr>\n    <tr>\n      <th>006959</th>\n      <td>male</td>\n      <td>Asian</td>\n      <td>19</td>\n      <td>006959_male_Asian_19</td>\n    </tr>\n  </tbody>\n</table>\n<p>2700 rows × 4 columns</p>\n</div>"
     },
     "metadata": {},
     "execution_count": 6
    }
   ],
   "source": [
    "df_gender = df.copy()\n",
    "df_gender.set_index(['id'], inplace=True)\n",
    "df_gender"
   ]
  },
  {
   "cell_type": "code",
   "execution_count": 7,
   "id": "515bed92-42cd-48a2-8bf4-f38cb261e03e",
   "metadata": {},
   "outputs": [],
   "source": [
    "for i in gender_f_to_m:\n",
    "    df_gender.at[i, 'gender'] = 'male'\n",
    "\n",
    "for i in gender_m_to_f:\n",
    "    df_gender.at[i, 'gender'] = 'female'"
   ]
  },
  {
   "cell_type": "code",
   "execution_count": 8,
   "id": "b3eed5b0-1f11-4fed-b9e5-791eb7e4079f",
   "metadata": {},
   "outputs": [],
   "source": [
    "df_new = df.copy()\n",
    "df_new['gender'] = df_gender['gender'].tolist()\n",
    "# df_new\n",
    "# df_new.gender.value_counts()"
   ]
  },
  {
   "cell_type": "markdown",
   "id": "e6739886-9cec-4b92-b1b4-c2afabf7f537",
   "metadata": {},
   "source": [
    "#### Mask label은 수정됐다고 가정"
   ]
  },
  {
   "cell_type": "markdown",
   "id": "17ac3941-f51c-4f45-9a64-6e41a63c1a80",
   "metadata": {},
   "source": [
    "## Data Classify"
   ]
  },
  {
   "cell_type": "code",
   "execution_count": 9,
   "id": "1e6e4df3-a978-4dda-9be9-08597c5e90fc",
   "metadata": {},
   "outputs": [],
   "source": [
    "df_label = df_new.copy()\n",
    "#df_label.gender.value_counts()"
   ]
  },
  {
   "cell_type": "code",
   "execution_count": 12,
   "id": "1dc8b54d-4f37-4740-81af-2ee0df3dfcef",
   "metadata": {},
   "outputs": [
    {
     "output_type": "stream",
     "name": "stderr",
     "text": [
      "/tmp/ipykernel_10184/2492251147.py:10: FutureWarning: The frame.append method is deprecated and will be removed from pandas in a future version. Use pandas.concat instead.\n  dfff = dfff.append(dff, ignore_index=True).reset_index(drop=True)\n"
     ]
    },
    {
     "output_type": "execute_result",
     "data": {
      "text/plain": [
       "           id  gender   race  age                    path  \\\n",
       "0      000001  female  Asian   45  000001_female_Asian_45   \n",
       "1      000002  female  Asian   52  000002_female_Asian_52   \n",
       "2      000004    male  Asian   54    000004_male_Asian_54   \n",
       "3      000005  female  Asian   58  000005_female_Asian_58   \n",
       "4      000006  female  Asian   59  000006_female_Asian_59   \n",
       "...       ...     ...    ...  ...                     ...   \n",
       "18895  006954    male  Asian   19    006954_male_Asian_19   \n",
       "18896  006955    male  Asian   19    006955_male_Asian_19   \n",
       "18897  006956    male  Asian   19    006956_male_Asian_19   \n",
       "18898  006957    male  Asian   20    006957_male_Asian_20   \n",
       "18899  006959    male  Asian   19    006959_male_Asian_19   \n",
       "\n",
       "                                        img_path       mask  \n",
       "0      000001_female_Asian_45/incorrect_mask.jpg  Incorrect  \n",
       "1      000002_female_Asian_52/incorrect_mask.jpg  Incorrect  \n",
       "2        000004_male_Asian_54/incorrect_mask.jpg  Incorrect  \n",
       "3      000005_female_Asian_58/incorrect_mask.jpg  Incorrect  \n",
       "4      000006_female_Asian_59/incorrect_mask.jpg  Incorrect  \n",
       "...                                          ...        ...  \n",
       "18895            006954_male_Asian_19/normal.jpg    NotWear  \n",
       "18896            006955_male_Asian_19/normal.jpg    NotWear  \n",
       "18897            006956_male_Asian_19/normal.jpg    NotWear  \n",
       "18898            006957_male_Asian_20/normal.jpg    NotWear  \n",
       "18899            006959_male_Asian_19/normal.jpg    NotWear  \n",
       "\n",
       "[18900 rows x 7 columns]"
      ],
      "text/html": "<div>\n<style scoped>\n    .dataframe tbody tr th:only-of-type {\n        vertical-align: middle;\n    }\n\n    .dataframe tbody tr th {\n        vertical-align: top;\n    }\n\n    .dataframe thead th {\n        text-align: right;\n    }\n</style>\n<table border=\"1\" class=\"dataframe\">\n  <thead>\n    <tr style=\"text-align: right;\">\n      <th></th>\n      <th>id</th>\n      <th>gender</th>\n      <th>race</th>\n      <th>age</th>\n      <th>path</th>\n      <th>img_path</th>\n      <th>mask</th>\n    </tr>\n  </thead>\n  <tbody>\n    <tr>\n      <th>0</th>\n      <td>000001</td>\n      <td>female</td>\n      <td>Asian</td>\n      <td>45</td>\n      <td>000001_female_Asian_45</td>\n      <td>000001_female_Asian_45/incorrect_mask.jpg</td>\n      <td>Incorrect</td>\n    </tr>\n    <tr>\n      <th>1</th>\n      <td>000002</td>\n      <td>female</td>\n      <td>Asian</td>\n      <td>52</td>\n      <td>000002_female_Asian_52</td>\n      <td>000002_female_Asian_52/incorrect_mask.jpg</td>\n      <td>Incorrect</td>\n    </tr>\n    <tr>\n      <th>2</th>\n      <td>000004</td>\n      <td>male</td>\n      <td>Asian</td>\n      <td>54</td>\n      <td>000004_male_Asian_54</td>\n      <td>000004_male_Asian_54/incorrect_mask.jpg</td>\n      <td>Incorrect</td>\n    </tr>\n    <tr>\n      <th>3</th>\n      <td>000005</td>\n      <td>female</td>\n      <td>Asian</td>\n      <td>58</td>\n      <td>000005_female_Asian_58</td>\n      <td>000005_female_Asian_58/incorrect_mask.jpg</td>\n      <td>Incorrect</td>\n    </tr>\n    <tr>\n      <th>4</th>\n      <td>000006</td>\n      <td>female</td>\n      <td>Asian</td>\n      <td>59</td>\n      <td>000006_female_Asian_59</td>\n      <td>000006_female_Asian_59/incorrect_mask.jpg</td>\n      <td>Incorrect</td>\n    </tr>\n    <tr>\n      <th>...</th>\n      <td>...</td>\n      <td>...</td>\n      <td>...</td>\n      <td>...</td>\n      <td>...</td>\n      <td>...</td>\n      <td>...</td>\n    </tr>\n    <tr>\n      <th>18895</th>\n      <td>006954</td>\n      <td>male</td>\n      <td>Asian</td>\n      <td>19</td>\n      <td>006954_male_Asian_19</td>\n      <td>006954_male_Asian_19/normal.jpg</td>\n      <td>NotWear</td>\n    </tr>\n    <tr>\n      <th>18896</th>\n      <td>006955</td>\n      <td>male</td>\n      <td>Asian</td>\n      <td>19</td>\n      <td>006955_male_Asian_19</td>\n      <td>006955_male_Asian_19/normal.jpg</td>\n      <td>NotWear</td>\n    </tr>\n    <tr>\n      <th>18897</th>\n      <td>006956</td>\n      <td>male</td>\n      <td>Asian</td>\n      <td>19</td>\n      <td>006956_male_Asian_19</td>\n      <td>006956_male_Asian_19/normal.jpg</td>\n      <td>NotWear</td>\n    </tr>\n    <tr>\n      <th>18898</th>\n      <td>006957</td>\n      <td>male</td>\n      <td>Asian</td>\n      <td>20</td>\n      <td>006957_male_Asian_20</td>\n      <td>006957_male_Asian_20/normal.jpg</td>\n      <td>NotWear</td>\n    </tr>\n    <tr>\n      <th>18899</th>\n      <td>006959</td>\n      <td>male</td>\n      <td>Asian</td>\n      <td>19</td>\n      <td>006959_male_Asian_19</td>\n      <td>006959_male_Asian_19/normal.jpg</td>\n      <td>NotWear</td>\n    </tr>\n  </tbody>\n</table>\n<p>18900 rows × 7 columns</p>\n</div>"
     },
     "metadata": {},
     "execution_count": 12
    }
   ],
   "source": [
    "#새로운 데이터프레임 생성\n",
    "name = ['incorrect_mask','mask1','mask2','mask3','mask4','mask5','normal']\n",
    "mask = ['Incorrect', 'Wear', 'Wear', 'Wear', 'Wear', 'Wear', 'NotWear']\n",
    "dfff = pd.DataFrame()\n",
    "\n",
    "for i in range(7):\n",
    "    dff = df_label\n",
    "    dff['img_path'] = df['path'] + '/' + name[i] + '.jpg'\n",
    "    dff['mask'] = mask[i]\n",
    "    dfff = dfff.append(dff, ignore_index=True).reset_index(drop=True)\n",
    "dfff"
   ]
  },
  {
   "cell_type": "code",
   "execution_count": 13,
   "id": "e1aebbf8-976a-4a09-bd3b-29d72dbeaa33",
   "metadata": {},
   "outputs": [],
   "source": [
    "# 일반 모델을 사용할 경우\n",
    "if NORM == True : \n",
    "    # 예측대상인 타깃 변수 생성\n",
    "    dfff['target'] = 0\n",
    "    dfff['target'] = ((dfff['mask']=='NotWear')*12 + \n",
    "                      (dfff['mask']=='Incorrect')*6 +\n",
    "                      (dfff['gender']=='female')*3 + \n",
    "                      (dfff['age']>=30)*1 + \n",
    "                      (dfff['age']>=60)*1)\n",
    "    # 기존 train.csv와 같은 위치에 새로운 csv 생성\n",
    "    dfff.to_csv(DATA_PATH+'train_classified.csv', index=False)\n",
    "    dfff.to_csv(DATA_PATH+'train_cls.csv', index=False)"
   ]
  },
  {
   "cell_type": "code",
   "execution_count": 14,
   "id": "a0386dc8-52ef-40e6-bfda-0fe7763e3607",
   "metadata": {},
   "outputs": [],
   "source": [
    "# 분리모델을 사용할 경우\n",
    "if SEPERA == True:\n",
    "    # 예측대상인 타깃 변수 생성 mask\n",
    "    dfff['target'] = 0\n",
    "    dfff['target'] = ((dfff['mask']=='NotWear')*12 + \n",
    "                      (dfff['mask']=='Incorrect')*6)\n",
    "    # 기존 train.csv와 같은 위치에 새로운 csv 생성\n",
    "    dfff.to_csv(DATA_PATH+'train_classified_mask.csv', index=False)\n",
    "\n",
    "    # 예측대상인 타깃 변수 생성 gender\n",
    "    dfff['target'] = 0\n",
    "    dfff['target'] = ((dfff['gender']=='female')*3)\n",
    "    # 기존 train.csv와 같은 위치에 새로운 csv 생성\n",
    "    dfff.to_csv(DATA_PATH+'train_classified_gender.csv', index=False)\n",
    "\n",
    "    # 예측대상인 타깃 변수 생성 age\n",
    "    dfff['target'] = 0\n",
    "    dfff['target'] = ((dfff['age']>=30)*1 + \n",
    "                      (dfff['age']>=60)*1)\n",
    "    # 기존 train.csv와 같은 위치에 새로운 csv 생성\n",
    "    dfff.to_csv(DATA_PATH+'train_classified_age.csv', index=False)"
   ]
  },
  {
   "cell_type": "markdown",
   "id": "d6c5239b-adb4-46bc-b015-f2b9892ab8cd",
   "metadata": {},
   "source": [
    "## Folder Classification"
   ]
  },
  {
   "cell_type": "code",
   "execution_count": 15,
   "id": "e7e60589-5545-444c-a5b3-755969641dc1",
   "metadata": {},
   "outputs": [],
   "source": [
    "import os\n",
    "import shutil\n",
    "import pandas as pd"
   ]
  },
  {
   "cell_type": "code",
   "execution_count": 16,
   "id": "338a05e6-a3a7-4af1-ba98-f07f90e810b6",
   "metadata": {},
   "outputs": [],
   "source": [
    "def folder_classification(data_dir, target):\n",
    "    # data_dir 은 데이터 폴더 이름 cropped_v2나 data 등\n",
    "    DATA_PATH = f'/opt/ml/input/{data_dir}/train/'\n",
    "    IMG_PATH = f'/opt/ml/input/{data_dir}/train/images/'\n",
    "    if target == 'all':\n",
    "        NEW_IMG_PATH = f'/opt/ml/input/{data_dir}/train/images_classified/'\n",
    "        train_classified = 'train_classified.csv'\n",
    "    else : \n",
    "        NEW_IMG_PATH = f'/opt/ml/input/{data_dir}/train/images_classified_{target}/'\n",
    "        train_classified = f'train_classified_{target}.csv' \n",
    "    df = pd.read_csv(DATA_PATH+'train.csv')\n",
    "    df_cls = pd.read_csv(DATA_PATH+train_classified)\n",
    "\n",
    "    # 새로 분류해서 저장할 디렉토리 생성\n",
    "    if not os.path.isdir(NEW_IMG_PATH):\n",
    "        os.makedirs(NEW_IMG_PATH)\n",
    "\n",
    "    # 타깃 클래스를 이름으로 갖는 디렉토리들을 생성\n",
    "    for i in df_cls['target'].unique():\n",
    "        if not os.path.isdir(NEW_IMG_PATH+str(i)):\n",
    "            os.makedirs(NEW_IMG_PATH+str(i))\n",
    "\n",
    "    # images 폴더 내의 개별 이미지 들의 경로를 저장\n",
    "    path_list = sorted([p for p in os.listdir(IMG_PATH) if '._' not in p])\n",
    "\n",
    "    # 만들어둔 새로운 경로에 각각의 이미지를 타깃별로 분류해서 복사 붙여넣기.\n",
    "    cnt = 0\n",
    "    for p in path_list:\n",
    "        idx_list = df_cls.index[df_cls['path'] == p].tolist()\n",
    "        for i in idx_list:\n",
    "            label = str(df_cls.iloc[i, -1])\n",
    "            img_path = df_cls.iloc[i, -3]\n",
    "            path, file_name = img_path.split('/')\n",
    "            shutil.copy(IMG_PATH+img_path, NEW_IMG_PATH+label+'/'+path + '_' + file_name)\n",
    "            cnt += 1\n",
    "            ##### 아래는 특전 레이블에 대해 오버샘플링 하도록 하는 코드######\n",
    "            if label =='6' or label =='12' or label =='2' :\n",
    "                shutil.copy(IMG_PATH+img_path, f'{NEW_IMG_PATH}{label}/{path}_2_{file_name}')\n",
    "                shutil.copy(IMG_PATH+img_path, f'{NEW_IMG_PATH}{label}/{path}_3_{file_name}')\n",
    "                shutil.copy(IMG_PATH+img_path, f'{NEW_IMG_PATH}{label}/{path}_4_{file_name}')"
   ]
  },
  {
   "cell_type": "code",
   "execution_count": 17,
   "id": "038764b6-b070-4e57-8744-19684f3f2b85",
   "metadata": {},
   "outputs": [],
   "source": [
    "if NORM == True : \n",
    "    folder_classification(DATA_DIR,'all')\n",
    "if SEPERA == True :\n",
    "    folder_classification(DATA_DIR,'mask')\n",
    "    folder_classification(DATA_DIR,'gender')\n",
    "    folder_classification(DATA_DIR,'age')"
   ]
  },
  {
   "cell_type": "code",
   "execution_count": null,
   "metadata": {},
   "outputs": [],
   "source": []
  }
 ],
 "metadata": {
  "kernelspec": {
   "name": "python3",
   "display_name": "Python 3.8.12 64-bit ('bc': conda)"
  },
  "language_info": {
   "codemirror_mode": {
    "name": "ipython",
    "version": 3
   },
   "file_extension": ".py",
   "mimetype": "text/x-python",
   "name": "python",
   "nbconvert_exporter": "python",
   "pygments_lexer": "ipython3",
   "version": "3.8.12"
  },
  "interpreter": {
   "hash": "89cc8cda02b7390f688a35414ab766c8a8a87d070a38632494ae1f68241d52f4"
  }
 },
 "nbformat": 4,
 "nbformat_minor": 5
}
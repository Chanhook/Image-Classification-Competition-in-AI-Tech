{
 "cells": [
  {
   "cell_type": "markdown",
   "id": "30e1273c-7a33-4bd1-a5eb-9f6cea3901de",
   "metadata": {},
   "source": [
    "https://stages.ai/competitions/104/discussion/talk/post/1105"
   ]
  },
  {
   "cell_type": "code",
   "execution_count": 1,
   "id": "30e77a71-27b5-488b-bb97-d54da913df4f",
   "metadata": {},
   "outputs": [],
   "source": [
    "import pandas as pd\n",
    "\n",
    "DATA_PATH = '../input/data/train/'\n",
    "FILE_NAME = 'train.csv'"
   ]
  },
  {
   "cell_type": "code",
   "execution_count": 2,
   "id": "69f4fd02-5313-4f72-b099-e996cf23bd7a",
   "metadata": {},
   "outputs": [],
   "source": [
    "df = pd.read_csv(DATA_PATH+FILE_NAME)\n",
    "df_new = df.copy()"
   ]
  },
  {
   "cell_type": "markdown",
   "id": "9b50f733-2330-48af-a7ef-41f6e4d01037",
   "metadata": {},
   "source": [
    "## Gender Label Correction"
   ]
  },
  {
   "cell_type": "code",
   "execution_count": 3,
   "id": "a3738050-58f7-4c01-acf2-3dd65c9e3b5b",
   "metadata": {},
   "outputs": [],
   "source": [
    "gender_f_to_m = [\n",
    "    '006359', \n",
    "    '006360', \n",
    "    '006361', \n",
    "    '006362', \n",
    "    '006363', \n",
    "    '006364', \n",
    "]\n",
    "\n",
    "gender_m_to_f = [\n",
    "    '001498-1',\n",
    "    '004432'\n",
    "]"
   ]
  },
  {
   "cell_type": "code",
   "execution_count": 4,
   "id": "fee31ab9-0330-4997-983a-f57cabd195aa",
   "metadata": {},
   "outputs": [],
   "source": [
    "df_gender = df.copy()"
   ]
  },
  {
   "cell_type": "code",
   "execution_count": 5,
   "id": "70923374-8e93-4e12-bb47-57403352c530",
   "metadata": {},
   "outputs": [],
   "source": [
    "df_gender.set_index(['id'], inplace=True)"
   ]
  },
  {
   "cell_type": "code",
   "execution_count": 6,
   "id": "b4b557ed-bf8e-44fb-be65-91adbd4bdb56",
   "metadata": {},
   "outputs": [
    {
     "data": {
      "text/html": [
       "<div>\n",
       "<style scoped>\n",
       "    .dataframe tbody tr th:only-of-type {\n",
       "        vertical-align: middle;\n",
       "    }\n",
       "\n",
       "    .dataframe tbody tr th {\n",
       "        vertical-align: top;\n",
       "    }\n",
       "\n",
       "    .dataframe thead th {\n",
       "        text-align: right;\n",
       "    }\n",
       "</style>\n",
       "<table border=\"1\" class=\"dataframe\">\n",
       "  <thead>\n",
       "    <tr style=\"text-align: right;\">\n",
       "      <th></th>\n",
       "      <th>gender</th>\n",
       "      <th>race</th>\n",
       "      <th>age</th>\n",
       "      <th>path</th>\n",
       "    </tr>\n",
       "    <tr>\n",
       "      <th>id</th>\n",
       "      <th></th>\n",
       "      <th></th>\n",
       "      <th></th>\n",
       "      <th></th>\n",
       "    </tr>\n",
       "  </thead>\n",
       "  <tbody>\n",
       "    <tr>\n",
       "      <th>000001</th>\n",
       "      <td>female</td>\n",
       "      <td>Asian</td>\n",
       "      <td>45</td>\n",
       "      <td>000001_female_Asian_45</td>\n",
       "    </tr>\n",
       "    <tr>\n",
       "      <th>000002</th>\n",
       "      <td>female</td>\n",
       "      <td>Asian</td>\n",
       "      <td>52</td>\n",
       "      <td>000002_female_Asian_52</td>\n",
       "    </tr>\n",
       "    <tr>\n",
       "      <th>000004</th>\n",
       "      <td>male</td>\n",
       "      <td>Asian</td>\n",
       "      <td>54</td>\n",
       "      <td>000004_male_Asian_54</td>\n",
       "    </tr>\n",
       "    <tr>\n",
       "      <th>000005</th>\n",
       "      <td>female</td>\n",
       "      <td>Asian</td>\n",
       "      <td>58</td>\n",
       "      <td>000005_female_Asian_58</td>\n",
       "    </tr>\n",
       "    <tr>\n",
       "      <th>000006</th>\n",
       "      <td>female</td>\n",
       "      <td>Asian</td>\n",
       "      <td>59</td>\n",
       "      <td>000006_female_Asian_59</td>\n",
       "    </tr>\n",
       "    <tr>\n",
       "      <th>...</th>\n",
       "      <td>...</td>\n",
       "      <td>...</td>\n",
       "      <td>...</td>\n",
       "      <td>...</td>\n",
       "    </tr>\n",
       "    <tr>\n",
       "      <th>006954</th>\n",
       "      <td>male</td>\n",
       "      <td>Asian</td>\n",
       "      <td>19</td>\n",
       "      <td>006954_male_Asian_19</td>\n",
       "    </tr>\n",
       "    <tr>\n",
       "      <th>006955</th>\n",
       "      <td>male</td>\n",
       "      <td>Asian</td>\n",
       "      <td>19</td>\n",
       "      <td>006955_male_Asian_19</td>\n",
       "    </tr>\n",
       "    <tr>\n",
       "      <th>006956</th>\n",
       "      <td>male</td>\n",
       "      <td>Asian</td>\n",
       "      <td>19</td>\n",
       "      <td>006956_male_Asian_19</td>\n",
       "    </tr>\n",
       "    <tr>\n",
       "      <th>006957</th>\n",
       "      <td>male</td>\n",
       "      <td>Asian</td>\n",
       "      <td>20</td>\n",
       "      <td>006957_male_Asian_20</td>\n",
       "    </tr>\n",
       "    <tr>\n",
       "      <th>006959</th>\n",
       "      <td>male</td>\n",
       "      <td>Asian</td>\n",
       "      <td>19</td>\n",
       "      <td>006959_male_Asian_19</td>\n",
       "    </tr>\n",
       "  </tbody>\n",
       "</table>\n",
       "<p>2700 rows × 4 columns</p>\n",
       "</div>"
      ],
      "text/plain": [
       "        gender   race  age                    path\n",
       "id                                                \n",
       "000001  female  Asian   45  000001_female_Asian_45\n",
       "000002  female  Asian   52  000002_female_Asian_52\n",
       "000004    male  Asian   54    000004_male_Asian_54\n",
       "000005  female  Asian   58  000005_female_Asian_58\n",
       "000006  female  Asian   59  000006_female_Asian_59\n",
       "...        ...    ...  ...                     ...\n",
       "006954    male  Asian   19    006954_male_Asian_19\n",
       "006955    male  Asian   19    006955_male_Asian_19\n",
       "006956    male  Asian   19    006956_male_Asian_19\n",
       "006957    male  Asian   20    006957_male_Asian_20\n",
       "006959    male  Asian   19    006959_male_Asian_19\n",
       "\n",
       "[2700 rows x 4 columns]"
      ]
     },
     "execution_count": 6,
     "metadata": {},
     "output_type": "execute_result"
    }
   ],
   "source": [
    "df_gender"
   ]
  },
  {
   "cell_type": "code",
   "execution_count": 7,
   "id": "9f9f214b-fab6-4cbd-bc75-e2b22695c70d",
   "metadata": {},
   "outputs": [],
   "source": [
    "for i in gender_f_to_m:\n",
    "    df_gender.at[i, 'gender'] = 'male'\n",
    "\n",
    "for i in gender_m_to_f:\n",
    "    df_gender.at[i, 'gender'] = 'female'"
   ]
  },
  {
   "cell_type": "code",
   "execution_count": 8,
   "id": "6be6d0df-d523-40fe-8bc9-de8ed501f0a4",
   "metadata": {},
   "outputs": [
    {
     "data": {
      "text/plain": [
       "female    1654\n",
       "male      1046\n",
       "Name: gender, dtype: int64"
      ]
     },
     "execution_count": 8,
     "metadata": {},
     "output_type": "execute_result"
    }
   ],
   "source": [
    "df_gender['gender'].value_counts()"
   ]
  },
  {
   "cell_type": "code",
   "execution_count": 9,
   "id": "caf7e789-f562-4220-86a7-8d4c7fc240da",
   "metadata": {},
   "outputs": [
    {
     "data": {
      "text/plain": [
       "female    1658\n",
       "male      1042\n",
       "Name: gender, dtype: int64"
      ]
     },
     "execution_count": 9,
     "metadata": {},
     "output_type": "execute_result"
    }
   ],
   "source": [
    "df['gender'].value_counts()"
   ]
  },
  {
   "cell_type": "code",
   "execution_count": 10,
   "id": "292b5c45-3b72-40ff-84b9-d04aa4dbc4c7",
   "metadata": {},
   "outputs": [
    {
     "data": {
      "text/html": [
       "<div>\n",
       "<style scoped>\n",
       "    .dataframe tbody tr th:only-of-type {\n",
       "        vertical-align: middle;\n",
       "    }\n",
       "\n",
       "    .dataframe tbody tr th {\n",
       "        vertical-align: top;\n",
       "    }\n",
       "\n",
       "    .dataframe thead th {\n",
       "        text-align: right;\n",
       "    }\n",
       "</style>\n",
       "<table border=\"1\" class=\"dataframe\">\n",
       "  <thead>\n",
       "    <tr style=\"text-align: right;\">\n",
       "      <th></th>\n",
       "      <th>id</th>\n",
       "      <th>gender</th>\n",
       "      <th>race</th>\n",
       "      <th>age</th>\n",
       "      <th>path</th>\n",
       "    </tr>\n",
       "  </thead>\n",
       "  <tbody>\n",
       "    <tr>\n",
       "      <th>0</th>\n",
       "      <td>000001</td>\n",
       "      <td>female</td>\n",
       "      <td>Asian</td>\n",
       "      <td>45</td>\n",
       "      <td>000001_female_Asian_45</td>\n",
       "    </tr>\n",
       "    <tr>\n",
       "      <th>1</th>\n",
       "      <td>000002</td>\n",
       "      <td>female</td>\n",
       "      <td>Asian</td>\n",
       "      <td>52</td>\n",
       "      <td>000002_female_Asian_52</td>\n",
       "    </tr>\n",
       "    <tr>\n",
       "      <th>2</th>\n",
       "      <td>000004</td>\n",
       "      <td>male</td>\n",
       "      <td>Asian</td>\n",
       "      <td>54</td>\n",
       "      <td>000004_male_Asian_54</td>\n",
       "    </tr>\n",
       "    <tr>\n",
       "      <th>3</th>\n",
       "      <td>000005</td>\n",
       "      <td>female</td>\n",
       "      <td>Asian</td>\n",
       "      <td>58</td>\n",
       "      <td>000005_female_Asian_58</td>\n",
       "    </tr>\n",
       "    <tr>\n",
       "      <th>4</th>\n",
       "      <td>000006</td>\n",
       "      <td>female</td>\n",
       "      <td>Asian</td>\n",
       "      <td>59</td>\n",
       "      <td>000006_female_Asian_59</td>\n",
       "    </tr>\n",
       "    <tr>\n",
       "      <th>...</th>\n",
       "      <td>...</td>\n",
       "      <td>...</td>\n",
       "      <td>...</td>\n",
       "      <td>...</td>\n",
       "      <td>...</td>\n",
       "    </tr>\n",
       "    <tr>\n",
       "      <th>2695</th>\n",
       "      <td>006954</td>\n",
       "      <td>male</td>\n",
       "      <td>Asian</td>\n",
       "      <td>19</td>\n",
       "      <td>006954_male_Asian_19</td>\n",
       "    </tr>\n",
       "    <tr>\n",
       "      <th>2696</th>\n",
       "      <td>006955</td>\n",
       "      <td>male</td>\n",
       "      <td>Asian</td>\n",
       "      <td>19</td>\n",
       "      <td>006955_male_Asian_19</td>\n",
       "    </tr>\n",
       "    <tr>\n",
       "      <th>2697</th>\n",
       "      <td>006956</td>\n",
       "      <td>male</td>\n",
       "      <td>Asian</td>\n",
       "      <td>19</td>\n",
       "      <td>006956_male_Asian_19</td>\n",
       "    </tr>\n",
       "    <tr>\n",
       "      <th>2698</th>\n",
       "      <td>006957</td>\n",
       "      <td>male</td>\n",
       "      <td>Asian</td>\n",
       "      <td>20</td>\n",
       "      <td>006957_male_Asian_20</td>\n",
       "    </tr>\n",
       "    <tr>\n",
       "      <th>2699</th>\n",
       "      <td>006959</td>\n",
       "      <td>male</td>\n",
       "      <td>Asian</td>\n",
       "      <td>19</td>\n",
       "      <td>006959_male_Asian_19</td>\n",
       "    </tr>\n",
       "  </tbody>\n",
       "</table>\n",
       "<p>2700 rows × 5 columns</p>\n",
       "</div>"
      ],
      "text/plain": [
       "          id  gender   race  age                    path\n",
       "0     000001  female  Asian   45  000001_female_Asian_45\n",
       "1     000002  female  Asian   52  000002_female_Asian_52\n",
       "2     000004    male  Asian   54    000004_male_Asian_54\n",
       "3     000005  female  Asian   58  000005_female_Asian_58\n",
       "4     000006  female  Asian   59  000006_female_Asian_59\n",
       "...      ...     ...    ...  ...                     ...\n",
       "2695  006954    male  Asian   19    006954_male_Asian_19\n",
       "2696  006955    male  Asian   19    006955_male_Asian_19\n",
       "2697  006956    male  Asian   19    006956_male_Asian_19\n",
       "2698  006957    male  Asian   20    006957_male_Asian_20\n",
       "2699  006959    male  Asian   19    006959_male_Asian_19\n",
       "\n",
       "[2700 rows x 5 columns]"
      ]
     },
     "execution_count": 10,
     "metadata": {},
     "output_type": "execute_result"
    }
   ],
   "source": [
    "df_new"
   ]
  },
  {
   "cell_type": "code",
   "execution_count": 11,
   "id": "ccfe3fc2-b6a1-47c4-817e-9979c3111c7c",
   "metadata": {},
   "outputs": [],
   "source": [
    "#df_new.drop(['gender'], axis=1, inplace=True)\n",
    "df_new['gender'] = df_gender['gender'].tolist()"
   ]
  },
  {
   "cell_type": "code",
   "execution_count": 12,
   "id": "b2a75181-ef52-4b05-9454-492615e0dba0",
   "metadata": {},
   "outputs": [
    {
     "data": {
      "text/html": [
       "<div>\n",
       "<style scoped>\n",
       "    .dataframe tbody tr th:only-of-type {\n",
       "        vertical-align: middle;\n",
       "    }\n",
       "\n",
       "    .dataframe tbody tr th {\n",
       "        vertical-align: top;\n",
       "    }\n",
       "\n",
       "    .dataframe thead th {\n",
       "        text-align: right;\n",
       "    }\n",
       "</style>\n",
       "<table border=\"1\" class=\"dataframe\">\n",
       "  <thead>\n",
       "    <tr style=\"text-align: right;\">\n",
       "      <th></th>\n",
       "      <th>id</th>\n",
       "      <th>gender</th>\n",
       "      <th>race</th>\n",
       "      <th>age</th>\n",
       "      <th>path</th>\n",
       "    </tr>\n",
       "  </thead>\n",
       "  <tbody>\n",
       "    <tr>\n",
       "      <th>0</th>\n",
       "      <td>000001</td>\n",
       "      <td>female</td>\n",
       "      <td>Asian</td>\n",
       "      <td>45</td>\n",
       "      <td>000001_female_Asian_45</td>\n",
       "    </tr>\n",
       "    <tr>\n",
       "      <th>1</th>\n",
       "      <td>000002</td>\n",
       "      <td>female</td>\n",
       "      <td>Asian</td>\n",
       "      <td>52</td>\n",
       "      <td>000002_female_Asian_52</td>\n",
       "    </tr>\n",
       "    <tr>\n",
       "      <th>2</th>\n",
       "      <td>000004</td>\n",
       "      <td>male</td>\n",
       "      <td>Asian</td>\n",
       "      <td>54</td>\n",
       "      <td>000004_male_Asian_54</td>\n",
       "    </tr>\n",
       "    <tr>\n",
       "      <th>3</th>\n",
       "      <td>000005</td>\n",
       "      <td>female</td>\n",
       "      <td>Asian</td>\n",
       "      <td>58</td>\n",
       "      <td>000005_female_Asian_58</td>\n",
       "    </tr>\n",
       "    <tr>\n",
       "      <th>4</th>\n",
       "      <td>000006</td>\n",
       "      <td>female</td>\n",
       "      <td>Asian</td>\n",
       "      <td>59</td>\n",
       "      <td>000006_female_Asian_59</td>\n",
       "    </tr>\n",
       "    <tr>\n",
       "      <th>...</th>\n",
       "      <td>...</td>\n",
       "      <td>...</td>\n",
       "      <td>...</td>\n",
       "      <td>...</td>\n",
       "      <td>...</td>\n",
       "    </tr>\n",
       "    <tr>\n",
       "      <th>2695</th>\n",
       "      <td>006954</td>\n",
       "      <td>male</td>\n",
       "      <td>Asian</td>\n",
       "      <td>19</td>\n",
       "      <td>006954_male_Asian_19</td>\n",
       "    </tr>\n",
       "    <tr>\n",
       "      <th>2696</th>\n",
       "      <td>006955</td>\n",
       "      <td>male</td>\n",
       "      <td>Asian</td>\n",
       "      <td>19</td>\n",
       "      <td>006955_male_Asian_19</td>\n",
       "    </tr>\n",
       "    <tr>\n",
       "      <th>2697</th>\n",
       "      <td>006956</td>\n",
       "      <td>male</td>\n",
       "      <td>Asian</td>\n",
       "      <td>19</td>\n",
       "      <td>006956_male_Asian_19</td>\n",
       "    </tr>\n",
       "    <tr>\n",
       "      <th>2698</th>\n",
       "      <td>006957</td>\n",
       "      <td>male</td>\n",
       "      <td>Asian</td>\n",
       "      <td>20</td>\n",
       "      <td>006957_male_Asian_20</td>\n",
       "    </tr>\n",
       "    <tr>\n",
       "      <th>2699</th>\n",
       "      <td>006959</td>\n",
       "      <td>male</td>\n",
       "      <td>Asian</td>\n",
       "      <td>19</td>\n",
       "      <td>006959_male_Asian_19</td>\n",
       "    </tr>\n",
       "  </tbody>\n",
       "</table>\n",
       "<p>2700 rows × 5 columns</p>\n",
       "</div>"
      ],
      "text/plain": [
       "          id  gender   race  age                    path\n",
       "0     000001  female  Asian   45  000001_female_Asian_45\n",
       "1     000002  female  Asian   52  000002_female_Asian_52\n",
       "2     000004    male  Asian   54    000004_male_Asian_54\n",
       "3     000005  female  Asian   58  000005_female_Asian_58\n",
       "4     000006  female  Asian   59  000006_female_Asian_59\n",
       "...      ...     ...    ...  ...                     ...\n",
       "2695  006954    male  Asian   19    006954_male_Asian_19\n",
       "2696  006955    male  Asian   19    006955_male_Asian_19\n",
       "2697  006956    male  Asian   19    006956_male_Asian_19\n",
       "2698  006957    male  Asian   20    006957_male_Asian_20\n",
       "2699  006959    male  Asian   19    006959_male_Asian_19\n",
       "\n",
       "[2700 rows x 5 columns]"
      ]
     },
     "execution_count": 12,
     "metadata": {},
     "output_type": "execute_result"
    }
   ],
   "source": [
    "df_new"
   ]
  },
  {
   "cell_type": "code",
   "execution_count": 13,
   "id": "d1e5e034-a0cf-4077-ab3c-8624299de68a",
   "metadata": {},
   "outputs": [
    {
     "data": {
      "text/plain": [
       "female    1654\n",
       "male      1046\n",
       "Name: gender, dtype: int64"
      ]
     },
     "execution_count": 13,
     "metadata": {},
     "output_type": "execute_result"
    }
   ],
   "source": [
    "df_new.gender.value_counts()"
   ]
  },
  {
   "cell_type": "code",
   "execution_count": 14,
   "id": "33438cac-4a28-4869-a37f-f18aca16fefe",
   "metadata": {},
   "outputs": [],
   "source": [
    "df_new.to_csv(DATA_PATH+'train_label.csv', index=False)"
   ]
  },
  {
   "cell_type": "markdown",
   "id": "3dd4a940-c8fe-4434-8657-3456f610c113",
   "metadata": {},
   "source": [
    "## Mask Label Correction\n",
    "\n",
    "https://stages.ai/competitions/104/discussion/talk/post/1122"
   ]
  },
  {
   "cell_type": "code",
   "execution_count": 35,
   "id": "20470b01-14f1-4155-bd5b-2b14285e565a",
   "metadata": {},
   "outputs": [
    {
     "data": {
      "text/plain": [
       "['000020', '004418', '005227']"
      ]
     },
     "execution_count": 35,
     "metadata": {},
     "output_type": "execute_result"
    }
   ],
   "source": [
    "mask = sorted(['005227', '004418', '000020']) # normal <-> incorrect\n",
    "\n",
    "mask"
   ]
  },
  {
   "cell_type": "code",
   "execution_count": 37,
   "id": "583d919f-7d11-42d0-a4e2-09100747d93d",
   "metadata": {},
   "outputs": [],
   "source": [
    "df_mask = df.copy()"
   ]
  },
  {
   "cell_type": "code",
   "execution_count": 38,
   "id": "58b5cb75-79dd-4ec4-b30b-e1dcda8e64d5",
   "metadata": {},
   "outputs": [],
   "source": [
    "df_mask.set_index(['id'], inplace=True)"
   ]
  },
  {
   "cell_type": "code",
   "execution_count": 39,
   "id": "08fec580-ae7f-4f4e-a697-a0c361ff749e",
   "metadata": {},
   "outputs": [
    {
     "data": {
      "text/html": [
       "<div>\n",
       "<style scoped>\n",
       "    .dataframe tbody tr th:only-of-type {\n",
       "        vertical-align: middle;\n",
       "    }\n",
       "\n",
       "    .dataframe tbody tr th {\n",
       "        vertical-align: top;\n",
       "    }\n",
       "\n",
       "    .dataframe thead th {\n",
       "        text-align: right;\n",
       "    }\n",
       "</style>\n",
       "<table border=\"1\" class=\"dataframe\">\n",
       "  <thead>\n",
       "    <tr style=\"text-align: right;\">\n",
       "      <th></th>\n",
       "      <th>gender</th>\n",
       "      <th>race</th>\n",
       "      <th>age</th>\n",
       "      <th>path</th>\n",
       "    </tr>\n",
       "    <tr>\n",
       "      <th>id</th>\n",
       "      <th></th>\n",
       "      <th></th>\n",
       "      <th></th>\n",
       "      <th></th>\n",
       "    </tr>\n",
       "  </thead>\n",
       "  <tbody>\n",
       "    <tr>\n",
       "      <th>000001</th>\n",
       "      <td>female</td>\n",
       "      <td>Asian</td>\n",
       "      <td>45</td>\n",
       "      <td>000001_female_Asian_45</td>\n",
       "    </tr>\n",
       "    <tr>\n",
       "      <th>000002</th>\n",
       "      <td>female</td>\n",
       "      <td>Asian</td>\n",
       "      <td>52</td>\n",
       "      <td>000002_female_Asian_52</td>\n",
       "    </tr>\n",
       "    <tr>\n",
       "      <th>000004</th>\n",
       "      <td>male</td>\n",
       "      <td>Asian</td>\n",
       "      <td>54</td>\n",
       "      <td>000004_male_Asian_54</td>\n",
       "    </tr>\n",
       "    <tr>\n",
       "      <th>000005</th>\n",
       "      <td>female</td>\n",
       "      <td>Asian</td>\n",
       "      <td>58</td>\n",
       "      <td>000005_female_Asian_58</td>\n",
       "    </tr>\n",
       "    <tr>\n",
       "      <th>000006</th>\n",
       "      <td>female</td>\n",
       "      <td>Asian</td>\n",
       "      <td>59</td>\n",
       "      <td>000006_female_Asian_59</td>\n",
       "    </tr>\n",
       "    <tr>\n",
       "      <th>...</th>\n",
       "      <td>...</td>\n",
       "      <td>...</td>\n",
       "      <td>...</td>\n",
       "      <td>...</td>\n",
       "    </tr>\n",
       "    <tr>\n",
       "      <th>006954</th>\n",
       "      <td>male</td>\n",
       "      <td>Asian</td>\n",
       "      <td>19</td>\n",
       "      <td>006954_male_Asian_19</td>\n",
       "    </tr>\n",
       "    <tr>\n",
       "      <th>006955</th>\n",
       "      <td>male</td>\n",
       "      <td>Asian</td>\n",
       "      <td>19</td>\n",
       "      <td>006955_male_Asian_19</td>\n",
       "    </tr>\n",
       "    <tr>\n",
       "      <th>006956</th>\n",
       "      <td>male</td>\n",
       "      <td>Asian</td>\n",
       "      <td>19</td>\n",
       "      <td>006956_male_Asian_19</td>\n",
       "    </tr>\n",
       "    <tr>\n",
       "      <th>006957</th>\n",
       "      <td>male</td>\n",
       "      <td>Asian</td>\n",
       "      <td>20</td>\n",
       "      <td>006957_male_Asian_20</td>\n",
       "    </tr>\n",
       "    <tr>\n",
       "      <th>006959</th>\n",
       "      <td>male</td>\n",
       "      <td>Asian</td>\n",
       "      <td>19</td>\n",
       "      <td>006959_male_Asian_19</td>\n",
       "    </tr>\n",
       "  </tbody>\n",
       "</table>\n",
       "<p>2700 rows × 4 columns</p>\n",
       "</div>"
      ],
      "text/plain": [
       "        gender   race  age                    path\n",
       "id                                                \n",
       "000001  female  Asian   45  000001_female_Asian_45\n",
       "000002  female  Asian   52  000002_female_Asian_52\n",
       "000004    male  Asian   54    000004_male_Asian_54\n",
       "000005  female  Asian   58  000005_female_Asian_58\n",
       "000006  female  Asian   59  000006_female_Asian_59\n",
       "...        ...    ...  ...                     ...\n",
       "006954    male  Asian   19    006954_male_Asian_19\n",
       "006955    male  Asian   19    006955_male_Asian_19\n",
       "006956    male  Asian   19    006956_male_Asian_19\n",
       "006957    male  Asian   20    006957_male_Asian_20\n",
       "006959    male  Asian   19    006959_male_Asian_19\n",
       "\n",
       "[2700 rows x 4 columns]"
      ]
     },
     "execution_count": 39,
     "metadata": {},
     "output_type": "execute_result"
    }
   ],
   "source": [
    "df_mask"
   ]
  },
  {
   "cell_type": "code",
   "execution_count": 40,
   "id": "d7b742d6-5cc9-41ae-a2c3-5ac819e212c1",
   "metadata": {},
   "outputs": [
    {
     "data": {
      "text/plain": [
       "'000020_female_Asian_50'"
      ]
     },
     "execution_count": 40,
     "metadata": {},
     "output_type": "execute_result"
    }
   ],
   "source": [
    "df_mask['path'].loc[mask[0]]"
   ]
  },
  {
   "cell_type": "code",
   "execution_count": 41,
   "id": "b7a508f3-717b-4e19-843a-f741320f4fdb",
   "metadata": {},
   "outputs": [
    {
     "name": "stdout",
     "output_type": "stream",
     "text": [
      "000020_female_Asian_50\n",
      "004418_male_Asian_20\n",
      "005227_male_Asian_22\n"
     ]
    }
   ],
   "source": [
    "#path = df_mask['path'].loc[mask[0]]\n",
    "\n",
    "wrong_folders = []\n",
    "\n",
    "for m in mask:\n",
    "    print(df_mask['path'].loc[m])\n",
    "    wrong_folders.append(df_mask['path'].loc[m])"
   ]
  },
  {
   "cell_type": "code",
   "execution_count": 42,
   "id": "edb6843e-a8bc-41bb-ab37-f751fe014fc7",
   "metadata": {},
   "outputs": [
    {
     "data": {
      "text/plain": [
       "['000020_female_Asian_50', '004418_male_Asian_20', '005227_male_Asian_22']"
      ]
     },
     "execution_count": 42,
     "metadata": {},
     "output_type": "execute_result"
    }
   ],
   "source": [
    "wrong_folders"
   ]
  },
  {
   "cell_type": "code",
   "execution_count": 49,
   "id": "96a20604-01fa-4214-ab5d-deee651e1955",
   "metadata": {},
   "outputs": [
    {
     "name": "stdout",
     "output_type": "stream",
     "text": [
      "000020_female_Asian_50\n",
      "Changed File Names\n",
      "004418_male_Asian_20\n",
      "Changed File Names\n",
      "005227_male_Asian_22\n",
      "Changed File Names\n"
     ]
    }
   ],
   "source": [
    "# 아래 코드는 한 번만 실행해야 합니다! \n",
    "# 이미 바뀐 파일은 바뀌지 않도록 하는 코드를 구상하는중...\n",
    "import os\n",
    "\n",
    "#IMG_PATH = '../input/cropped/train/images/'\n",
    "IMG_PATH = '../input/data/train/images/'\n",
    "\n",
    "file_names = [\"incorrect_mask.jpg\", \"normal.jpg\", \"temp.jpg\"]\n",
    "\n",
    "for folder in wrong_folders:\n",
    "    print(folder)\n",
    "    image_dir = os.path.join(IMG_PATH, folder)\n",
    "    \n",
    "    incorrect_file = os.path.join(image_dir, file_names[0])\n",
    "    normal_file = os.path.join(image_dir, file_names[1])\n",
    "    \n",
    "    \n",
    "    temp = os.path.join(image_dir, file_names[2])\n",
    "\n",
    "\n",
    "    os.rename(incorrect_file, temp)\n",
    "    os.rename(normal_file, incorrect_file)\n",
    "    os.rename(temp, normal_file)  # temp img is not created in this folder, only for rename\n",
    "\n",
    "    print(\"Changed File Names\")"
   ]
  },
  {
   "cell_type": "code",
   "execution_count": 48,
   "id": "2e2f0035-9124-4e4a-aa97-9011dff491a5",
   "metadata": {},
   "outputs": [
    {
     "name": "stdout",
     "output_type": "stream",
     "text": [
      "000020_female_Asian_50\n",
      "1614865992.0\n",
      "004418_male_Asian_20\n",
      "1614866112.0\n",
      "005227_male_Asian_22\n",
      "1614866066.0\n"
     ]
    }
   ],
   "source": [
    "# 파일 이름을 바꿔도 modified time이 바뀌지 않고, 파일마다 시간이 다르다...\n",
    "\n",
    "for folder in wrong_folders:\n",
    "    print(folder)\n",
    "    image_dir = os.path.join(IMG_PATH, folder)\n",
    "    \n",
    "    incorrect_file = os.path.join(image_dir, file_names[0])\n",
    "    normal_file = os.path.join(image_dir, file_names[1])\n",
    "    \n",
    "    print(os.path.getmtime(incorrect_file))"
   ]
  },
  {
   "cell_type": "code",
   "execution_count": null,
   "id": "378f05f0-e54e-47e6-8a99-8e2f8726271d",
   "metadata": {},
   "outputs": [],
   "source": []
  }
 ],
 "metadata": {
  "kernelspec": {
   "display_name": "Python 3 (ipykernel)",
   "language": "python",
   "name": "python3"
  },
  "language_info": {
   "codemirror_mode": {
    "name": "ipython",
    "version": 3
   },
   "file_extension": ".py",
   "mimetype": "text/x-python",
   "name": "python",
   "nbconvert_exporter": "python",
   "pygments_lexer": "ipython3",
   "version": "3.8.5"
  }
 },
 "nbformat": 4,
 "nbformat_minor": 5
}

{
 "cells": [
  {
   "cell_type": "code",
   "execution_count": 466,
   "id": "f533e493-4094-40a2-954d-16b49c27acfe",
   "metadata": {},
   "outputs": [],
   "source": [
    "import matplotlib\n",
    "import matplotlib.pyplot as plt\n",
    "\n",
    "import os\n",
    "\n",
    "import torch\n",
    "import torch.nn as nn\n",
    "import torch.optim as optim\n",
    "\n",
    "import torchvision\n",
    "from torchvision import datasets, models, transforms\n",
    "\n",
    "import numpy as np\n",
    "import time\n",
    "from tqdm import tqdm\n",
    "\n",
    "device = torch.device(\"cuda:0\" if torch.cuda.is_available() else \"cpu\") # device 객체"
   ]
  },
  {
   "cell_type": "code",
   "execution_count": 467,
   "id": "006c371e-6f93-4674-b9ea-aad4004a1492",
   "metadata": {},
   "outputs": [],
   "source": [
    "import pandas as pd\n",
    "\n",
    "test_dir = '/opt/ml/input/cropped_v2/eval'\n",
    "submission = pd.read_csv(os.path.join(test_dir, 'info.csv'))"
   ]
  },
  {
   "cell_type": "code",
   "execution_count": 468,
   "id": "3e5e80ad-1951-48aa-8844-25cf7cb93fa7",
   "metadata": {},
   "outputs": [],
   "source": [
    "# 데이터셋을 불러올 때 사용할 변형(transformation) 객체 정의\n",
    "transforms = transforms.Compose([\n",
    "    transforms.Resize((224, 224)),\n",
    "    #transforms.Resize((112, 112)),\n",
    "    transforms.ToTensor(),\n",
    "    transforms.Normalize([0.485, 0.456, 0.406], [0.229, 0.224, 0.225]) # 정규화(normalization)\n",
    "])"
   ]
  },
  {
   "cell_type": "markdown",
   "id": "113e9d2c-26ee-4e62-a71a-6d5c164fd41e",
   "metadata": {},
   "source": [
    "## 이 아래부터 data_dir을 하나씩 바꾸어 가면서 반복 (단 첫줄에 있는 기존의 data_dir은 사용하지 않는다.)"
   ]
  },
  {
   "cell_type": "code",
   "execution_count": 541,
   "id": "4de58e13-a279-4552-a56e-c28f945e7760",
   "metadata": {},
   "outputs": [],
   "source": [
    "# 이 부분 중 각각의 3가지를 반복해서 돌리면 된다.\n",
    "# data_dir = '/opt/ml/input/cropped_v2/train/images_classified/' ; ft = 'ans';\n",
    "data_dir = '/opt/ml/input/cropped_v2/train/images_classified_mask/' ; ft = 'mask';\n",
    "# data_dir = '/opt/ml/input/cropped_v2/train/images_classified_gender/' ; ft = 'gender';\n",
    "# data_dir = '/opt/ml/input/cropped_v2/train/images_classified_age/' ; ft = 'age';\n",
    "dataset = datasets.ImageFolder(os.path.join(data_dir), transforms)"
   ]
  },
  {
   "cell_type": "code",
   "execution_count": 542,
   "id": "07c3b2df-14c7-4e8b-8a44-2497b3c553fb",
   "metadata": {},
   "outputs": [
    {
     "data": {
      "text/plain": [
       "Dataset ImageFolder\n",
       "    Number of datapoints: 18837\n",
       "    Root location: /opt/ml/input/cropped_v2/train/images_classified_mask/\n",
       "    StandardTransform\n",
       "Transform: Compose(\n",
       "               Resize(size=(224, 224), interpolation=PIL.Image.BILINEAR)\n",
       "               ToTensor()\n",
       "               Normalize(mean=[0.485, 0.456, 0.406], std=[0.229, 0.224, 0.225])\n",
       "           )"
      ]
     },
     "execution_count": 542,
     "metadata": {},
     "output_type": "execute_result"
    }
   ],
   "source": [
    "dataset"
   ]
  },
  {
   "cell_type": "code",
   "execution_count": 543,
   "id": "2b694196-2bbb-4c31-8d1a-05767d3ddbb2",
   "metadata": {},
   "outputs": [
    {
     "name": "stdout",
     "output_type": "stream",
     "text": [
      "['0', '12', '6']\n"
     ]
    }
   ],
   "source": [
    "class_names = dataset.classes\n",
    "print(class_names)"
   ]
  },
  {
   "cell_type": "code",
   "execution_count": 544,
   "id": "bea09489-3b69-4163-a7b3-2f5541844a1d",
   "metadata": {},
   "outputs": [],
   "source": [
    "train_size = int(0.8 * len(dataset))\n",
    "valid_size = len(dataset) - train_size"
   ]
  },
  {
   "cell_type": "code",
   "execution_count": 545,
   "id": "b5e7459c-7239-4adf-9a85-b92f0b802f99",
   "metadata": {},
   "outputs": [],
   "source": [
    "train_set, valid_set = torch.utils.data.random_split(dataset, [train_size, valid_size], generator=torch.Generator().manual_seed(42))"
   ]
  },
  {
   "cell_type": "code",
   "execution_count": 546,
   "id": "fa759912-93e5-4ceb-8117-038152b26dd3",
   "metadata": {},
   "outputs": [],
   "source": [
    "#dataloader = torch.utils.data.DataLoader(dataset, batch_size=4, shuffle=True, num_workers=8)\n",
    "dataloader = torch.utils.data.DataLoader(train_set, batch_size=128, shuffle=True, num_workers=8)"
   ]
  },
  {
   "cell_type": "code",
   "execution_count": 547,
   "id": "e1a1b4cf-d702-4597-baaa-9244eda02ceb",
   "metadata": {},
   "outputs": [
    {
     "data": {
      "text/plain": [
       "'\\n# 학습 데이터를 배치 단위로 불러오기\\niterator = iter(dataloader)\\n\\n# 현재 배치를 이용해 격자 형태의 이미지를 만들어 시각화\\ninputs, classes= next(iterator)\\nout = torchvision.utils.make_grid(inputs)\\nimshow(out, title=[class_names[x] for x in classes])\\n'"
      ]
     },
     "execution_count": 547,
     "metadata": {},
     "output_type": "execute_result"
    }
   ],
   "source": [
    "def imshow(input, title):\n",
    "    # torch.Tensor를 numpy 객체로 변환\n",
    "    # pytorch는 batch, channel, 높이, 너비 순으로 데이터 구성.\n",
    "    input = input.numpy().transpose((1, 2, 0)) # channel 값이 가장 뒤에 오도록.\n",
    "    # 이미지 정규화 해제하기\n",
    "    mean = np.array([0.485, 0.456, 0.406])\n",
    "    std = np.array([0.229, 0.224, 0.225])\n",
    "    input = std * input + mean\n",
    "    input = np.clip(input, 0, 1)\n",
    "    # 이미지 출력\n",
    "    plt.imshow(input)\n",
    "    plt.title(title)\n",
    "    plt.show()\n",
    "\n",
    "'''\n",
    "# 학습 데이터를 배치 단위로 불러오기\n",
    "iterator = iter(dataloader)\n",
    "\n",
    "# 현재 배치를 이용해 격자 형태의 이미지를 만들어 시각화\n",
    "inputs, classes= next(iterator)\n",
    "out = torchvision.utils.make_grid(inputs)\n",
    "imshow(out, title=[class_names[x] for x in classes])\n",
    "'''"
   ]
  },
  {
   "cell_type": "code",
   "execution_count": 548,
   "id": "6490ec7d-7579-4412-8f2e-f065f1e33252",
   "metadata": {},
   "outputs": [],
   "source": [
    "# !pip install ipywidgets\n",
    "# !jupyter nbextension enable --py widgetsnbextension"
   ]
  },
  {
   "cell_type": "code",
   "execution_count": 549,
   "id": "7d819e4e-4e5e-476d-a0d0-37b662af0a55",
   "metadata": {},
   "outputs": [],
   "source": [
    "model = models.resnet34(pretrained=True)\n",
    "\n",
    "num_features = model.fc.in_features\n",
    "# 전이 학습(transfer learning): 모델의 출력 뉴런 수를 18개로 교체하여 마지막 레이어 다시 학습\n",
    "model.fc = nn.Linear(num_features, len(class_names)) \n",
    "model = model.to(device)\n",
    "\n",
    "criterion = nn.CrossEntropyLoss()\n",
    "optimizer = optim.SGD(model.parameters(), lr=0.001, momentum=0.9)\n",
    "# optimizer = optim.Adam(model.parameters(), lr=0.001)"
   ]
  },
  {
   "cell_type": "code",
   "execution_count": 550,
   "id": "f6a081a0-0834-4c2e-8fa3-719810a143d9",
   "metadata": {},
   "outputs": [],
   "source": [
    "# import timm\n",
    "# class Network(nn.Module):\n",
    "#     def __init__(self, num_classes):\n",
    "#         super().__init__()\n",
    "#         self.encoder = timm.create_model('regnety_040', pretrained=True,\n",
    "#                                     drop_path_rate=0.20,\n",
    "#                                     )\n",
    "        \n",
    "#         num_head = self.encoder.head.fc.in_features\n",
    "#         self.encoder.head.fc = nn.Linear(num_head, num_classes)\n",
    "\n",
    "#     def forward(self, x):\n",
    "#         x = self.encoder(x)\n",
    "#         return x\n",
    "# model = Network(len(class_names))\n",
    "# model = model.to(device)\n",
    "# criterion = nn.CrossEntropyLoss()\n",
    "# # optimizer = optim.SGD(model.parameters(), lr=0.001, momentum=0.9)\n",
    "# optimizer = optim.Adam(model.parameters(), lr=0.001)"
   ]
  },
  {
   "cell_type": "code",
   "execution_count": 551,
   "id": "0a2d156e-e689-48bc-a8da-214fde3ee227",
   "metadata": {
    "tags": []
   },
   "outputs": [
    {
     "name": "stderr",
     "output_type": "stream",
     "text": [
      "100%|██████████| 118/118 [00:28<00:00,  4.19it/s]\n",
      "  0%|          | 0/118 [00:00<?, ?it/s]"
     ]
    },
    {
     "name": "stdout",
     "output_type": "stream",
     "text": [
      "#0 Loss: 0.0460 Acc: 98.3078% Time: 28.1854s\n"
     ]
    },
    {
     "name": "stderr",
     "output_type": "stream",
     "text": [
      "100%|██████████| 118/118 [00:28<00:00,  4.19it/s]\n",
      "  0%|          | 0/118 [00:00<?, ?it/s]"
     ]
    },
    {
     "name": "stdout",
     "output_type": "stream",
     "text": [
      "#1 Loss: 0.0143 Acc: 99.6284% Time: 56.3502s\n"
     ]
    },
    {
     "name": "stderr",
     "output_type": "stream",
     "text": [
      "100%|██████████| 118/118 [00:27<00:00,  4.22it/s]\n",
      "  0%|          | 0/118 [00:00<?, ?it/s]"
     ]
    },
    {
     "name": "stdout",
     "output_type": "stream",
     "text": [
      "#2 Loss: 0.0084 Acc: 99.7346% Time: 84.3456s\n"
     ]
    },
    {
     "name": "stderr",
     "output_type": "stream",
     "text": [
      "100%|██████████| 118/118 [00:28<00:00,  4.19it/s]\n",
      "  0%|          | 0/118 [00:00<?, ?it/s]"
     ]
    },
    {
     "name": "stdout",
     "output_type": "stream",
     "text": [
      "#3 Loss: 0.0069 Acc: 99.7810% Time: 112.5330s\n"
     ]
    },
    {
     "name": "stderr",
     "output_type": "stream",
     "text": [
      "100%|██████████| 118/118 [00:28<00:00,  4.19it/s]\n",
      "  0%|          | 0/118 [00:00<?, ?it/s]"
     ]
    },
    {
     "name": "stdout",
     "output_type": "stream",
     "text": [
      "#4 Loss: 0.0031 Acc: 99.9403% Time: 140.7048s\n"
     ]
    },
    {
     "name": "stderr",
     "output_type": "stream",
     "text": [
      "100%|██████████| 118/118 [00:27<00:00,  4.24it/s]\n",
      "  0%|          | 0/118 [00:00<?, ?it/s]"
     ]
    },
    {
     "name": "stdout",
     "output_type": "stream",
     "text": [
      "#5 Loss: 0.0012 Acc: 99.9602% Time: 168.5151s\n"
     ]
    },
    {
     "name": "stderr",
     "output_type": "stream",
     "text": [
      "100%|██████████| 118/118 [00:28<00:00,  4.17it/s]\n",
      "  0%|          | 0/118 [00:00<?, ?it/s]"
     ]
    },
    {
     "name": "stdout",
     "output_type": "stream",
     "text": [
      "#6 Loss: 0.0072 Acc: 99.8076% Time: 196.8471s\n"
     ]
    },
    {
     "name": "stderr",
     "output_type": "stream",
     "text": [
      "100%|██████████| 118/118 [00:28<00:00,  4.16it/s]\n",
      "  0%|          | 0/118 [00:00<?, ?it/s]"
     ]
    },
    {
     "name": "stdout",
     "output_type": "stream",
     "text": [
      "#7 Loss: 0.0158 Acc: 99.5686% Time: 225.2498s\n"
     ]
    },
    {
     "name": "stderr",
     "output_type": "stream",
     "text": [
      "100%|██████████| 118/118 [00:28<00:00,  4.15it/s]\n",
      "  0%|          | 0/118 [00:00<?, ?it/s]"
     ]
    },
    {
     "name": "stdout",
     "output_type": "stream",
     "text": [
      "#8 Loss: 0.0089 Acc: 99.7346% Time: 253.6600s\n"
     ]
    },
    {
     "name": "stderr",
     "output_type": "stream",
     "text": [
      "100%|██████████| 118/118 [00:27<00:00,  4.24it/s]"
     ]
    },
    {
     "name": "stdout",
     "output_type": "stream",
     "text": [
      "#9 Loss: 0.0044 Acc: 99.8673% Time: 281.5299s\n"
     ]
    },
    {
     "name": "stderr",
     "output_type": "stream",
     "text": [
      "\n"
     ]
    }
   ],
   "source": [
    "#num_epochs = 50\n",
    "num_epochs = 10\n",
    "model.train()\n",
    "start_time = time.time()\n",
    "\n",
    "# 전체 반복(epoch) 수 만큼 반복하며\n",
    "for epoch in range(num_epochs):\n",
    "    running_loss = 0.\n",
    "    running_corrects = 0\n",
    "\n",
    "    # 배치 단위로 학습 데이터 불러오기\n",
    "    for inputs, labels in tqdm(dataloader):\n",
    "        inputs = inputs.to(device)\n",
    "        labels = labels.to(device)\n",
    "\n",
    "        # 모델에 입력(forward)하고 결과 계산\n",
    "        optimizer.zero_grad() # 전체 grad 값을 초기화.\n",
    "        outputs = model(inputs)\n",
    "        _, preds = torch.max(outputs, 1)\n",
    "        loss = criterion(outputs, labels)\n",
    "\n",
    "        # 역전파를 통해 기울기(gradient) 계산 및 학습 진행\n",
    "        loss.backward()\n",
    "        optimizer.step()\n",
    "\n",
    "        running_loss += loss.item() * inputs.size(0)\n",
    "        running_corrects += torch.sum(preds == labels.data)\n",
    "\n",
    "    epoch_loss = running_loss / len(train_set)\n",
    "    epoch_acc = running_corrects / len(train_set) * 100.\n",
    "\n",
    "    # 학습 과정 중에 결과 출력\n",
    "    print('#{} Loss: {:.4f} Acc: {:.4f}% Time: {:.4f}s'.format(epoch, epoch_loss, epoch_acc, time.time() - start_time))"
   ]
  },
  {
   "cell_type": "code",
   "execution_count": 552,
   "id": "104a6709-fe12-4dd4-af87-777e21815a5f",
   "metadata": {},
   "outputs": [],
   "source": [
    "valid_dataloader = torch.utils.data.DataLoader(valid_set, batch_size=128, shuffle=True, num_workers=8)"
   ]
  },
  {
   "cell_type": "code",
   "execution_count": 553,
   "id": "d1c9bee9-ee14-45fe-9d18-116e121006e9",
   "metadata": {},
   "outputs": [
    {
     "name": "stdout",
     "output_type": "stream",
     "text": [
      "[Test Phase] Loss: 0.0285 Acc: 99.1242% Time: 3.4933s\n"
     ]
    }
   ],
   "source": [
    "model.eval()\n",
    "start_time = time.time()\n",
    "\n",
    "all_labels = []\n",
    "all_preds = []\n",
    "\n",
    "with torch.no_grad():\n",
    "    running_loss = 0.\n",
    "    running_corrects = 0\n",
    "\n",
    "    for inputs, labels in valid_dataloader:\n",
    "        inputs = inputs.to(device)\n",
    "        labels = labels.to(device)\n",
    "\n",
    "        outputs = model(inputs)\n",
    "        _, preds = torch.max(outputs, 1)\n",
    "        #all_preds.append(preds)\n",
    "        \n",
    "        for p in preds.cpu().numpy():\n",
    "            all_preds.append(p)\n",
    "        \n",
    "        loss = criterion(outputs, labels)\n",
    "\n",
    "        running_loss += loss.item() * inputs.size(0)\n",
    "        running_corrects += torch.sum(preds == labels.data)\n",
    "        \n",
    "        \n",
    "        #all_labels.append(labels.data)\n",
    "        \n",
    "        for l in labels.cpu().data.numpy():\n",
    "            all_labels.append(l)\n",
    "        \n",
    "        # 한 배치의 첫 번째 이미지에 대하여 결과 시각화\n",
    "#         print(f'[예측 결과: {class_names[preds[0]]}] (실제 정답: {class_names[labels.data[0]]})')\n",
    "#         imshow(inputs.cpu().data[0], title='예측 결과: ' + class_names[preds[0]])\n",
    "\n",
    "    epoch_loss = running_loss / len(valid_set)\n",
    "    epoch_acc = running_corrects / len(valid_set) * 100.\n",
    "    print('[Test Phase] Loss: {:.4f} Acc: {:.4f}% Time: {:.4f}s'.format(epoch_loss, epoch_acc, time.time() - start_time))"
   ]
  },
  {
   "cell_type": "code",
   "execution_count": 554,
   "id": "4a2942ce-61ad-44a7-9fb2-48a13a9d8ddb",
   "metadata": {},
   "outputs": [],
   "source": [
    "#all_preds"
   ]
  },
  {
   "cell_type": "code",
   "execution_count": 555,
   "id": "d9e16714-7ee8-4770-ab94-9bd5555d30d3",
   "metadata": {},
   "outputs": [],
   "source": [
    "#all_labels"
   ]
  },
  {
   "cell_type": "code",
   "execution_count": 556,
   "id": "e30ea202-b564-4a26-9a5c-78bfd77bf3bd",
   "metadata": {},
   "outputs": [],
   "source": [
    "# !conda install -c conda-forge torchmetrics -y"
   ]
  },
  {
   "cell_type": "code",
   "execution_count": 557,
   "id": "deb089a9-1b52-42c1-9220-f5a8a4e5aed2",
   "metadata": {},
   "outputs": [
    {
     "data": {
      "text/plain": [
       "0.987797452906556"
      ]
     },
     "execution_count": 557,
     "metadata": {},
     "output_type": "execute_result"
    }
   ],
   "source": [
    "from sklearn.metrics import f1_score\n",
    "#from torchmetrics import F1Score\n",
    "\n",
    "#f1 = F1Score(num_classes=18)\n",
    "#f1(all_preds, all_labels)\n",
    "f1_score(all_labels, all_preds, average='macro')"
   ]
  },
  {
   "cell_type": "code",
   "execution_count": 558,
   "id": "34734f3c-31ea-4cf0-b52e-d89afede2fc4",
   "metadata": {},
   "outputs": [],
   "source": [
    "# import pandas as pd\n",
    "\n",
    "# test_dir = '/opt/ml/input/cropped_v2/eval'\n",
    "# submission = pd.read_csv(os.path.join(test_dir, 'info.csv'))\n",
    "#맨위로 올려보냄"
   ]
  },
  {
   "cell_type": "code",
   "execution_count": 559,
   "id": "f39cd5ce-5655-4244-946c-2eb4d8614bbb",
   "metadata": {},
   "outputs": [],
   "source": [
    "image_dir = os.path.join(test_dir, 'images')"
   ]
  },
  {
   "cell_type": "code",
   "execution_count": 560,
   "id": "9228d234-7987-47a0-b169-3dc4e3c56978",
   "metadata": {},
   "outputs": [
    {
     "data": {
      "text/html": [
       "<div>\n",
       "<style scoped>\n",
       "    .dataframe tbody tr th:only-of-type {\n",
       "        vertical-align: middle;\n",
       "    }\n",
       "\n",
       "    .dataframe tbody tr th {\n",
       "        vertical-align: top;\n",
       "    }\n",
       "\n",
       "    .dataframe thead th {\n",
       "        text-align: right;\n",
       "    }\n",
       "</style>\n",
       "<table border=\"1\" class=\"dataframe\">\n",
       "  <thead>\n",
       "    <tr style=\"text-align: right;\">\n",
       "      <th></th>\n",
       "      <th>ImageID</th>\n",
       "      <th>ans</th>\n",
       "      <th>age</th>\n",
       "      <th>gender</th>\n",
       "    </tr>\n",
       "  </thead>\n",
       "  <tbody>\n",
       "    <tr>\n",
       "      <th>0</th>\n",
       "      <td>cbc5c6e168e63498590db46022617123f1fe1268.jpg</td>\n",
       "      <td>0</td>\n",
       "      <td>1</td>\n",
       "      <td>0</td>\n",
       "    </tr>\n",
       "    <tr>\n",
       "      <th>1</th>\n",
       "      <td>0e72482bf56b3581c081f7da2a6180b8792c7089.jpg</td>\n",
       "      <td>0</td>\n",
       "      <td>1</td>\n",
       "      <td>0</td>\n",
       "    </tr>\n",
       "    <tr>\n",
       "      <th>2</th>\n",
       "      <td>b549040c49190cedc41327748aeb197c1670f14d.jpg</td>\n",
       "      <td>0</td>\n",
       "      <td>1</td>\n",
       "      <td>0</td>\n",
       "    </tr>\n",
       "    <tr>\n",
       "      <th>3</th>\n",
       "      <td>4f9cb2a045c6d5b9e50ad3459ea7b791eb6e18bc.jpg</td>\n",
       "      <td>0</td>\n",
       "      <td>1</td>\n",
       "      <td>0</td>\n",
       "    </tr>\n",
       "    <tr>\n",
       "      <th>4</th>\n",
       "      <td>248428d9a4a5b6229a7081c32851b90cb8d38d0c.jpg</td>\n",
       "      <td>0</td>\n",
       "      <td>0</td>\n",
       "      <td>0</td>\n",
       "    </tr>\n",
       "    <tr>\n",
       "      <th>...</th>\n",
       "      <td>...</td>\n",
       "      <td>...</td>\n",
       "      <td>...</td>\n",
       "      <td>...</td>\n",
       "    </tr>\n",
       "    <tr>\n",
       "      <th>12595</th>\n",
       "      <td>d71d4570505d6af8f777690e63edfa8d85ea4476.jpg</td>\n",
       "      <td>0</td>\n",
       "      <td>1</td>\n",
       "      <td>0</td>\n",
       "    </tr>\n",
       "    <tr>\n",
       "      <th>12596</th>\n",
       "      <td>6cf1300e8e218716728d5820c0bab553306c2cfd.jpg</td>\n",
       "      <td>0</td>\n",
       "      <td>1</td>\n",
       "      <td>3</td>\n",
       "    </tr>\n",
       "    <tr>\n",
       "      <th>12597</th>\n",
       "      <td>8140edbba31c3a824e817e6d5fb95343199e2387.jpg</td>\n",
       "      <td>0</td>\n",
       "      <td>0</td>\n",
       "      <td>3</td>\n",
       "    </tr>\n",
       "    <tr>\n",
       "      <th>12598</th>\n",
       "      <td>030d439efe6fb5a7bafda45a393fc19f2bf57f54.jpg</td>\n",
       "      <td>0</td>\n",
       "      <td>1</td>\n",
       "      <td>0</td>\n",
       "    </tr>\n",
       "    <tr>\n",
       "      <th>12599</th>\n",
       "      <td>f1e0b9594ae9f72571f0a9dc67406ad41f2edab0.jpg</td>\n",
       "      <td>0</td>\n",
       "      <td>1</td>\n",
       "      <td>0</td>\n",
       "    </tr>\n",
       "  </tbody>\n",
       "</table>\n",
       "<p>12600 rows × 4 columns</p>\n",
       "</div>"
      ],
      "text/plain": [
       "                                            ImageID  ans age gender\n",
       "0      cbc5c6e168e63498590db46022617123f1fe1268.jpg    0   1      0\n",
       "1      0e72482bf56b3581c081f7da2a6180b8792c7089.jpg    0   1      0\n",
       "2      b549040c49190cedc41327748aeb197c1670f14d.jpg    0   1      0\n",
       "3      4f9cb2a045c6d5b9e50ad3459ea7b791eb6e18bc.jpg    0   1      0\n",
       "4      248428d9a4a5b6229a7081c32851b90cb8d38d0c.jpg    0   0      0\n",
       "...                                             ...  ...  ..    ...\n",
       "12595  d71d4570505d6af8f777690e63edfa8d85ea4476.jpg    0   1      0\n",
       "12596  6cf1300e8e218716728d5820c0bab553306c2cfd.jpg    0   1      3\n",
       "12597  8140edbba31c3a824e817e6d5fb95343199e2387.jpg    0   0      3\n",
       "12598  030d439efe6fb5a7bafda45a393fc19f2bf57f54.jpg    0   1      0\n",
       "12599  f1e0b9594ae9f72571f0a9dc67406ad41f2edab0.jpg    0   1      0\n",
       "\n",
       "[12600 rows x 4 columns]"
      ]
     },
     "execution_count": 560,
     "metadata": {},
     "output_type": "execute_result"
    }
   ],
   "source": [
    "submission"
   ]
  },
  {
   "cell_type": "code",
   "execution_count": 561,
   "id": "a72bc02b-2c41-41f3-bb33-bcbbddea900d",
   "metadata": {},
   "outputs": [],
   "source": [
    "image_paths = [os.path.join(image_dir, img_id) for img_id in submission.ImageID]"
   ]
  },
  {
   "cell_type": "code",
   "execution_count": 562,
   "id": "a3d39312-6bb2-43b6-9a9b-a0b9491e66ad",
   "metadata": {},
   "outputs": [],
   "source": [
    "#image_paths"
   ]
  },
  {
   "cell_type": "code",
   "execution_count": 563,
   "id": "f9bbda1a-9992-450a-9ad0-5eeb7466e85f",
   "metadata": {},
   "outputs": [],
   "source": [
    "from torch.utils.data import Dataset, DataLoader\n",
    "\n",
    "class TestDataset(Dataset):\n",
    "    def __init__(self, img_paths, transform):\n",
    "        self.img_paths = img_paths\n",
    "        self.transform = transform\n",
    "\n",
    "    def __getitem__(self, index):\n",
    "        image = Image.open(self.img_paths[index])\n",
    "\n",
    "        if self.transform:\n",
    "            image = self.transform(image)\n",
    "        return image\n",
    "\n",
    "    def __len__(self):\n",
    "        return len(self.img_paths)"
   ]
  },
  {
   "cell_type": "code",
   "execution_count": 564,
   "id": "f550a068-2ab4-4c96-9d59-9446aaee5c82",
   "metadata": {},
   "outputs": [],
   "source": [
    "test_set = TestDataset(image_paths, transforms)"
   ]
  },
  {
   "cell_type": "code",
   "execution_count": 565,
   "id": "21810ff5-4600-4fd2-acc3-476ec461907d",
   "metadata": {},
   "outputs": [],
   "source": [
    "test_dataloader = torch.utils.data.DataLoader(test_set, batch_size=128, shuffle=False, num_workers=8)"
   ]
  },
  {
   "cell_type": "code",
   "execution_count": 566,
   "id": "2018d053-589a-4832-931d-40a6314dde38",
   "metadata": {},
   "outputs": [],
   "source": [
    "def imshow_test(input):\n",
    "    # torch.Tensor를 numpy 객체로 변환\n",
    "    # pytorch는 batch, channel, 높이, 너비 순으로 데이터 구성.\n",
    "    input = input.numpy().transpose((1, 2, 0)) # channel 값이 가장 뒤에 오도록.\n",
    "    # 이미지 정규화 해제하기\n",
    "    mean = np.array([0.485, 0.456, 0.406])\n",
    "    std = np.array([0.229, 0.224, 0.225])\n",
    "    input = std * input + mean\n",
    "    input = np.clip(input, 0, 1)\n",
    "    # 이미지 출력\n",
    "    plt.imshow(input)\n",
    "    #plt.title(title)\n",
    "    plt.show()"
   ]
  },
  {
   "cell_type": "code",
   "execution_count": 567,
   "id": "35bb15ec-d892-426c-b270-dac6058c1c38",
   "metadata": {},
   "outputs": [
    {
     "data": {
      "text/plain": [
       "'\\n# 데이터를 배치 단위로 불러오기\\niterator = iter(test_dataloader)\\n\\n# 현재 배치를 이용해 격자 형태의 이미지를 만들어 시각화\\ninputs = next(iterator)\\nout = torchvision.utils.make_grid(inputs)\\nimshow_test(out)\\n'"
      ]
     },
     "execution_count": 567,
     "metadata": {},
     "output_type": "execute_result"
    }
   ],
   "source": [
    "'''\n",
    "# 데이터를 배치 단위로 불러오기\n",
    "iterator = iter(test_dataloader)\n",
    "\n",
    "# 현재 배치를 이용해 격자 형태의 이미지를 만들어 시각화\n",
    "inputs = next(iterator)\n",
    "out = torchvision.utils.make_grid(inputs)\n",
    "imshow_test(out)\n",
    "'''"
   ]
  },
  {
   "cell_type": "code",
   "execution_count": 568,
   "id": "1918ad07-beb1-426e-8ae3-ea5e0718d26a",
   "metadata": {},
   "outputs": [
    {
     "name": "stderr",
     "output_type": "stream",
     "text": [
      "100%|██████████| 99/99 [00:09<00:00, 10.31it/s]\n"
     ]
    }
   ],
   "source": [
    "from PIL import Image\n",
    "all_predictions = []\n",
    "\n",
    "with torch.no_grad():\n",
    "    for inputs in tqdm(test_dataloader):\n",
    "        inputs = inputs.to(device)\n",
    "        \n",
    "        outputs = model(inputs)\n",
    "        _, preds = torch.max(outputs, 1)\n",
    "        \n",
    "        all_predictions.extend(preds.cpu().numpy())"
   ]
  },
  {
   "cell_type": "code",
   "execution_count": 569,
   "id": "cb992f19-c937-4ee9-8a9e-caad5936ba58",
   "metadata": {},
   "outputs": [
    {
     "data": {
      "text/plain": [
       "'\\nfrom PIL import Image\\n\\nall_predictions = []\\nfor images in tqdm(test_dataloader):\\n    with torch.no_grad():\\n        images = images.to(device)\\n        pred = model(images)\\n        pred = pred.argmax(dim=-1)\\n        all_predictions.extend(pred.cpu().numpy())\\n'"
      ]
     },
     "execution_count": 569,
     "metadata": {},
     "output_type": "execute_result"
    }
   ],
   "source": [
    "'''\n",
    "from PIL import Image\n",
    "\n",
    "all_predictions = []\n",
    "for images in tqdm(test_dataloader):\n",
    "    with torch.no_grad():\n",
    "        images = images.to(device)\n",
    "        pred = model(images)\n",
    "        pred = pred.argmax(dim=-1)\n",
    "        all_predictions.extend(pred.cpu().numpy())\n",
    "'''"
   ]
  },
  {
   "cell_type": "code",
   "execution_count": 570,
   "id": "e905798a-278f-46bd-ba56-ac3f757beccd",
   "metadata": {},
   "outputs": [
    {
     "name": "stdout",
     "output_type": "stream",
     "text": [
      "1 0 1 1 1 \n",
      "0 2 0 0 0 \n",
      "1 0 2 0 0 \n",
      "0 0 0 2 0 \n"
     ]
    }
   ],
   "source": [
    "for i in range(len(all_predictions)):\n",
    "    print(all_predictions[i], end=' ')\n",
    "    \n",
    "    if i % 5 == 4:\n",
    "        print()\n",
    "    \n",
    "    if i == 19:\n",
    "        break"
   ]
  },
  {
   "cell_type": "code",
   "execution_count": 571,
   "id": "74897034-f975-486e-954c-b5457ec2cbab",
   "metadata": {},
   "outputs": [
    {
     "data": {
      "text/plain": [
       "['0', '12', '6']"
      ]
     },
     "execution_count": 571,
     "metadata": {},
     "output_type": "execute_result"
    }
   ],
   "source": [
    "class_names"
   ]
  },
  {
   "cell_type": "code",
   "execution_count": 572,
   "id": "dee7ae77-5091-4b46-aeaa-4ee6567410b3",
   "metadata": {},
   "outputs": [],
   "source": [
    "all_predictions2 = []\n",
    "\n",
    "for p in all_predictions:\n",
    "    all_predictions2.append(class_names[p])"
   ]
  },
  {
   "cell_type": "code",
   "execution_count": 573,
   "id": "7ddbba00-651c-4a12-9293-fd0eed9e90b9",
   "metadata": {},
   "outputs": [
    {
     "name": "stdout",
     "output_type": "stream",
     "text": [
      "12 0 12 12 12 \n",
      "0 6 0 0 0 \n",
      "12 0 6 0 0 \n",
      "0 0 0 6 0 \n"
     ]
    }
   ],
   "source": [
    "for i in range(len(all_predictions2)):\n",
    "    print(all_predictions2[i], end=' ')\n",
    "    \n",
    "    if i % 5 == 4:\n",
    "        print()\n",
    "    \n",
    "    if i == 19:\n",
    "        break"
   ]
  },
  {
   "cell_type": "code",
   "execution_count": 574,
   "id": "6ebd93a3-1833-42a9-a7c7-866a8c0d3ca2",
   "metadata": {},
   "outputs": [],
   "source": [
    "submission[ft] = all_predictions2"
   ]
  },
  {
   "cell_type": "code",
   "execution_count": 575,
   "id": "08f23ed0-23cf-46c6-8a39-4970689ee381",
   "metadata": {},
   "outputs": [],
   "source": [
    "# torch.save(model.state_dict(), os.getcwd()+'/'+f'2nd_model_run_{ft}')"
   ]
  },
  {
   "cell_type": "code",
   "execution_count": 576,
   "id": "46e5e7d7-4149-40f7-813a-d5023175e089",
   "metadata": {},
   "outputs": [
    {
     "data": {
      "text/plain": [
       "0    12600\n",
       "Name: ans, dtype: int64"
      ]
     },
     "execution_count": 576,
     "metadata": {},
     "output_type": "execute_result"
    }
   ],
   "source": [
    "submission['ans'].value_counts()"
   ]
  },
  {
   "cell_type": "markdown",
   "id": "380d4a14-b5bb-47fa-95bf-f3d8833b7cbc",
   "metadata": {},
   "source": [
    "## 따로따로 계산시 여기 위까지 반복"
   ]
  },
  {
   "cell_type": "code",
   "execution_count": 577,
   "id": "fb6d55f8-c1da-408f-a5ec-cd2281b9b485",
   "metadata": {},
   "outputs": [
    {
     "data": {
      "text/html": [
       "<div>\n",
       "<style scoped>\n",
       "    .dataframe tbody tr th:only-of-type {\n",
       "        vertical-align: middle;\n",
       "    }\n",
       "\n",
       "    .dataframe tbody tr th {\n",
       "        vertical-align: top;\n",
       "    }\n",
       "\n",
       "    .dataframe thead th {\n",
       "        text-align: right;\n",
       "    }\n",
       "</style>\n",
       "<table border=\"1\" class=\"dataframe\">\n",
       "  <thead>\n",
       "    <tr style=\"text-align: right;\">\n",
       "      <th></th>\n",
       "      <th>ImageID</th>\n",
       "      <th>ans</th>\n",
       "      <th>age</th>\n",
       "      <th>gender</th>\n",
       "      <th>mask</th>\n",
       "    </tr>\n",
       "  </thead>\n",
       "  <tbody>\n",
       "    <tr>\n",
       "      <th>0</th>\n",
       "      <td>cbc5c6e168e63498590db46022617123f1fe1268.jpg</td>\n",
       "      <td>0</td>\n",
       "      <td>1</td>\n",
       "      <td>0</td>\n",
       "      <td>12</td>\n",
       "    </tr>\n",
       "    <tr>\n",
       "      <th>1</th>\n",
       "      <td>0e72482bf56b3581c081f7da2a6180b8792c7089.jpg</td>\n",
       "      <td>0</td>\n",
       "      <td>1</td>\n",
       "      <td>0</td>\n",
       "      <td>0</td>\n",
       "    </tr>\n",
       "    <tr>\n",
       "      <th>2</th>\n",
       "      <td>b549040c49190cedc41327748aeb197c1670f14d.jpg</td>\n",
       "      <td>0</td>\n",
       "      <td>1</td>\n",
       "      <td>0</td>\n",
       "      <td>12</td>\n",
       "    </tr>\n",
       "    <tr>\n",
       "      <th>3</th>\n",
       "      <td>4f9cb2a045c6d5b9e50ad3459ea7b791eb6e18bc.jpg</td>\n",
       "      <td>0</td>\n",
       "      <td>1</td>\n",
       "      <td>0</td>\n",
       "      <td>12</td>\n",
       "    </tr>\n",
       "    <tr>\n",
       "      <th>4</th>\n",
       "      <td>248428d9a4a5b6229a7081c32851b90cb8d38d0c.jpg</td>\n",
       "      <td>0</td>\n",
       "      <td>0</td>\n",
       "      <td>0</td>\n",
       "      <td>12</td>\n",
       "    </tr>\n",
       "    <tr>\n",
       "      <th>...</th>\n",
       "      <td>...</td>\n",
       "      <td>...</td>\n",
       "      <td>...</td>\n",
       "      <td>...</td>\n",
       "      <td>...</td>\n",
       "    </tr>\n",
       "    <tr>\n",
       "      <th>12595</th>\n",
       "      <td>d71d4570505d6af8f777690e63edfa8d85ea4476.jpg</td>\n",
       "      <td>0</td>\n",
       "      <td>1</td>\n",
       "      <td>0</td>\n",
       "      <td>0</td>\n",
       "    </tr>\n",
       "    <tr>\n",
       "      <th>12596</th>\n",
       "      <td>6cf1300e8e218716728d5820c0bab553306c2cfd.jpg</td>\n",
       "      <td>0</td>\n",
       "      <td>1</td>\n",
       "      <td>3</td>\n",
       "      <td>0</td>\n",
       "    </tr>\n",
       "    <tr>\n",
       "      <th>12597</th>\n",
       "      <td>8140edbba31c3a824e817e6d5fb95343199e2387.jpg</td>\n",
       "      <td>0</td>\n",
       "      <td>0</td>\n",
       "      <td>3</td>\n",
       "      <td>6</td>\n",
       "    </tr>\n",
       "    <tr>\n",
       "      <th>12598</th>\n",
       "      <td>030d439efe6fb5a7bafda45a393fc19f2bf57f54.jpg</td>\n",
       "      <td>0</td>\n",
       "      <td>1</td>\n",
       "      <td>0</td>\n",
       "      <td>0</td>\n",
       "    </tr>\n",
       "    <tr>\n",
       "      <th>12599</th>\n",
       "      <td>f1e0b9594ae9f72571f0a9dc67406ad41f2edab0.jpg</td>\n",
       "      <td>0</td>\n",
       "      <td>1</td>\n",
       "      <td>0</td>\n",
       "      <td>6</td>\n",
       "    </tr>\n",
       "  </tbody>\n",
       "</table>\n",
       "<p>12600 rows × 5 columns</p>\n",
       "</div>"
      ],
      "text/plain": [
       "                                            ImageID  ans age gender mask\n",
       "0      cbc5c6e168e63498590db46022617123f1fe1268.jpg    0   1      0   12\n",
       "1      0e72482bf56b3581c081f7da2a6180b8792c7089.jpg    0   1      0    0\n",
       "2      b549040c49190cedc41327748aeb197c1670f14d.jpg    0   1      0   12\n",
       "3      4f9cb2a045c6d5b9e50ad3459ea7b791eb6e18bc.jpg    0   1      0   12\n",
       "4      248428d9a4a5b6229a7081c32851b90cb8d38d0c.jpg    0   0      0   12\n",
       "...                                             ...  ...  ..    ...  ...\n",
       "12595  d71d4570505d6af8f777690e63edfa8d85ea4476.jpg    0   1      0    0\n",
       "12596  6cf1300e8e218716728d5820c0bab553306c2cfd.jpg    0   1      3    0\n",
       "12597  8140edbba31c3a824e817e6d5fb95343199e2387.jpg    0   0      3    6\n",
       "12598  030d439efe6fb5a7bafda45a393fc19f2bf57f54.jpg    0   1      0    0\n",
       "12599  f1e0b9594ae9f72571f0a9dc67406ad41f2edab0.jpg    0   1      0    6\n",
       "\n",
       "[12600 rows x 5 columns]"
      ]
     },
     "execution_count": 577,
     "metadata": {},
     "output_type": "execute_result"
    }
   ],
   "source": [
    "submission"
   ]
  },
  {
   "cell_type": "code",
   "execution_count": 578,
   "id": "d368c50b-96c5-4bf4-bff5-962a67b50cad",
   "metadata": {},
   "outputs": [
    {
     "data": {
      "text/plain": [
       "ImageID    object\n",
       "ans         int64\n",
       "age         int64\n",
       "gender      int64\n",
       "mask        int64\n",
       "dtype: object"
      ]
     },
     "execution_count": 578,
     "metadata": {},
     "output_type": "execute_result"
    }
   ],
   "source": [
    "submission = submission.astype({'age':'int','gender':'int','mask':'int'})\n",
    "submission.dtypes"
   ]
  },
  {
   "cell_type": "code",
   "execution_count": null,
   "id": "f1bc661d-68c5-4f45-91a8-86734b08d7a3",
   "metadata": {},
   "outputs": [],
   "source": []
  },
  {
   "cell_type": "code",
   "execution_count": 579,
   "id": "0eb4ec12-2390-458a-96f2-16a39541c767",
   "metadata": {},
   "outputs": [
    {
     "data": {
      "text/html": [
       "<div>\n",
       "<style scoped>\n",
       "    .dataframe tbody tr th:only-of-type {\n",
       "        vertical-align: middle;\n",
       "    }\n",
       "\n",
       "    .dataframe tbody tr th {\n",
       "        vertical-align: top;\n",
       "    }\n",
       "\n",
       "    .dataframe thead th {\n",
       "        text-align: right;\n",
       "    }\n",
       "</style>\n",
       "<table border=\"1\" class=\"dataframe\">\n",
       "  <thead>\n",
       "    <tr style=\"text-align: right;\">\n",
       "      <th></th>\n",
       "      <th>ImageID</th>\n",
       "      <th>ans</th>\n",
       "    </tr>\n",
       "  </thead>\n",
       "  <tbody>\n",
       "    <tr>\n",
       "      <th>0</th>\n",
       "      <td>cbc5c6e168e63498590db46022617123f1fe1268.jpg</td>\n",
       "      <td>13</td>\n",
       "    </tr>\n",
       "    <tr>\n",
       "      <th>1</th>\n",
       "      <td>0e72482bf56b3581c081f7da2a6180b8792c7089.jpg</td>\n",
       "      <td>1</td>\n",
       "    </tr>\n",
       "    <tr>\n",
       "      <th>2</th>\n",
       "      <td>b549040c49190cedc41327748aeb197c1670f14d.jpg</td>\n",
       "      <td>13</td>\n",
       "    </tr>\n",
       "    <tr>\n",
       "      <th>3</th>\n",
       "      <td>4f9cb2a045c6d5b9e50ad3459ea7b791eb6e18bc.jpg</td>\n",
       "      <td>13</td>\n",
       "    </tr>\n",
       "    <tr>\n",
       "      <th>4</th>\n",
       "      <td>248428d9a4a5b6229a7081c32851b90cb8d38d0c.jpg</td>\n",
       "      <td>12</td>\n",
       "    </tr>\n",
       "    <tr>\n",
       "      <th>...</th>\n",
       "      <td>...</td>\n",
       "      <td>...</td>\n",
       "    </tr>\n",
       "    <tr>\n",
       "      <th>12595</th>\n",
       "      <td>d71d4570505d6af8f777690e63edfa8d85ea4476.jpg</td>\n",
       "      <td>1</td>\n",
       "    </tr>\n",
       "    <tr>\n",
       "      <th>12596</th>\n",
       "      <td>6cf1300e8e218716728d5820c0bab553306c2cfd.jpg</td>\n",
       "      <td>4</td>\n",
       "    </tr>\n",
       "    <tr>\n",
       "      <th>12597</th>\n",
       "      <td>8140edbba31c3a824e817e6d5fb95343199e2387.jpg</td>\n",
       "      <td>9</td>\n",
       "    </tr>\n",
       "    <tr>\n",
       "      <th>12598</th>\n",
       "      <td>030d439efe6fb5a7bafda45a393fc19f2bf57f54.jpg</td>\n",
       "      <td>1</td>\n",
       "    </tr>\n",
       "    <tr>\n",
       "      <th>12599</th>\n",
       "      <td>f1e0b9594ae9f72571f0a9dc67406ad41f2edab0.jpg</td>\n",
       "      <td>7</td>\n",
       "    </tr>\n",
       "  </tbody>\n",
       "</table>\n",
       "<p>12600 rows × 2 columns</p>\n",
       "</div>"
      ],
      "text/plain": [
       "                                            ImageID  ans\n",
       "0      cbc5c6e168e63498590db46022617123f1fe1268.jpg   13\n",
       "1      0e72482bf56b3581c081f7da2a6180b8792c7089.jpg    1\n",
       "2      b549040c49190cedc41327748aeb197c1670f14d.jpg   13\n",
       "3      4f9cb2a045c6d5b9e50ad3459ea7b791eb6e18bc.jpg   13\n",
       "4      248428d9a4a5b6229a7081c32851b90cb8d38d0c.jpg   12\n",
       "...                                             ...  ...\n",
       "12595  d71d4570505d6af8f777690e63edfa8d85ea4476.jpg    1\n",
       "12596  6cf1300e8e218716728d5820c0bab553306c2cfd.jpg    4\n",
       "12597  8140edbba31c3a824e817e6d5fb95343199e2387.jpg    9\n",
       "12598  030d439efe6fb5a7bafda45a393fc19f2bf57f54.jpg    1\n",
       "12599  f1e0b9594ae9f72571f0a9dc67406ad41f2edab0.jpg    7\n",
       "\n",
       "[12600 rows x 2 columns]"
      ]
     },
     "execution_count": 579,
     "metadata": {},
     "output_type": "execute_result"
    }
   ],
   "source": [
    "try : submission['ans'] = submission['mask'] + submission['gender'] + submission['age'] ; submission2 = submission.drop(['mask','gender','age'],axis=1)\n",
    "except : pass\n",
    "submission2"
   ]
  },
  {
   "cell_type": "code",
   "execution_count": 580,
   "id": "62022a01-63d5-4196-8e11-b08580ab4b48",
   "metadata": {},
   "outputs": [],
   "source": [
    "# a = []\n",
    "# for i in range(len(submission)):\n",
    "#     b = int(submission['ans'][i][-1]) + int(submission['ans'][i][-2]) + int(submission['ans'][i][:-2])\n",
    "#     a.append(b)\n",
    "# submission['ans'] = a"
   ]
  },
  {
   "cell_type": "code",
   "execution_count": 581,
   "id": "17b4762c-bf6e-4052-b55d-bad604e3e90f",
   "metadata": {},
   "outputs": [],
   "source": [
    "\n",
    "submission2.to_csv(os.path.join(test_dir, 'submission_res_sepera_adam.csv'), index=False)"
   ]
  },
  {
   "cell_type": "code",
   "execution_count": 465,
   "id": "325b6364-e150-4064-b2e2-b85df4a00639",
   "metadata": {},
   "outputs": [],
   "source": [
    "#model.state_dict()"
   ]
  },
  {
   "cell_type": "code",
   "execution_count": null,
   "id": "801dd4f6-fe92-4137-bac8-cd4d5fa26f17",
   "metadata": {},
   "outputs": [],
   "source": [
    "os.getcwd()"
   ]
  },
  {
   "cell_type": "code",
   "execution_count": 221,
   "id": "92660475-19fe-49ab-aa65-8722601b7ded",
   "metadata": {},
   "outputs": [],
   "source": [
    "# torch.save(model.state_dict(), os.getcwd()+'/'+'2nd_model_run')"
   ]
  },
  {
   "cell_type": "code",
   "execution_count": null,
   "id": "569694c1-b426-43b3-8eff-ff3f5c99f49c",
   "metadata": {},
   "outputs": [],
   "source": []
  }
 ],
 "metadata": {
  "kernelspec": {
   "display_name": "Python 3 (ipykernel)",
   "language": "python",
   "name": "python3"
  },
  "language_info": {
   "codemirror_mode": {
    "name": "ipython",
    "version": 3
   },
   "file_extension": ".py",
   "mimetype": "text/x-python",
   "name": "python",
   "nbconvert_exporter": "python",
   "pygments_lexer": "ipython3",
   "version": "3.8.5"
  }
 },
 "nbformat": 4,
 "nbformat_minor": 5
}

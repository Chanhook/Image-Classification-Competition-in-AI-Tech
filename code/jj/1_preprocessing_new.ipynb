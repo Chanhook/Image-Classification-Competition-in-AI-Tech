{
 "cells": [
  {
   "cell_type": "markdown",
   "id": "316eed17-68e1-40bb-b1f9-5d5b7966c882",
   "metadata": {},
   "source": [
    "# Data preprocessing"
   ]
  },
  {
   "cell_type": "code",
   "execution_count": 1,
   "id": "d42bcea7-1e6f-4e22-80c9-7c959ab4f271",
   "metadata": {},
   "outputs": [],
   "source": [
    "#이 코드 하나로 단일모델, 분리모델 모두 전처리 가능합니다.\n",
    "#이 부분을 채워주셔야 합니다.\n",
    "DATA_DIR = 'cropped_v2.1' # 혹은 data 등. 아래의 DATA_PATH를 참고하여 기입\n",
    "SEPERA = True # 분리하는 모델(종현모델)을 사용할 경우 True\n",
    "NORM = False #분리하지 않는 모델(정재님의 모델)을 사용할 경우 True\n",
    "# SEPERA와 NORM은 둘다 킬 수도 있습니다.(하지만 둘 중 하나는 반드시 켜야 합니다.)"
   ]
  },
  {
   "cell_type": "markdown",
   "id": "65e2bf17-eaeb-4e4d-b39d-8f0266479447",
   "metadata": {
    "tags": []
   },
   "source": [
    "## Gender Label Correction"
   ]
  },
  {
   "cell_type": "code",
   "execution_count": 2,
   "id": "7f4e0725-454d-4307-b683-dc09e610b6b6",
   "metadata": {},
   "outputs": [],
   "source": [
    "DATA_PATH = f'/opt/ml/input/{DATA_DIR}/train/'\n",
    "FILE_NAME = 'train.csv'"
   ]
  },
  {
   "cell_type": "code",
   "execution_count": 3,
   "id": "556156ea-1062-4555-a851-fda105423d21",
   "metadata": {},
   "outputs": [],
   "source": [
    "import pandas as pd\n",
    "#해당 경로에 train.csv 파일이 있어야 정상작동합니다.\n",
    "df = pd.read_csv(DATA_PATH+FILE_NAME)"
   ]
  },
  {
   "cell_type": "code",
   "execution_count": 4,
   "id": "56b00437-aab7-4134-bb8e-865fec755c95",
   "metadata": {},
   "outputs": [],
   "source": [
    "# 잘못 분류된 데이터 폴더명을 기입\n",
    "gender_f_to_m = [\n",
    "    '006359', \n",
    "    '006360', \n",
    "    '006361', \n",
    "    '006362', \n",
    "    '006363', \n",
    "    '006364', \n",
    "]\n",
    "\n",
    "gender_m_to_f = [\n",
    "    '001498-1',\n",
    "    '004432'\n",
    "]"
   ]
  },
  {
   "cell_type": "code",
   "execution_count": 5,
   "id": "7147254f-c11e-4d50-8b5c-f17eb6b0f9b2",
   "metadata": {},
   "outputs": [],
   "source": [
    "df_gender = df.copy()\n",
    "df_gender.set_index(['id'], inplace=True)\n",
    "# df_gender"
   ]
  },
  {
   "cell_type": "code",
   "execution_count": 6,
   "id": "515bed92-42cd-48a2-8bf4-f38cb261e03e",
   "metadata": {},
   "outputs": [],
   "source": [
    "for i in gender_f_to_m:\n",
    "    df_gender.at[i, 'gender'] = 'male'\n",
    "\n",
    "for i in gender_m_to_f:\n",
    "    df_gender.at[i, 'gender'] = 'female'"
   ]
  },
  {
   "cell_type": "code",
   "execution_count": 7,
   "id": "b3eed5b0-1f11-4fed-b9e5-791eb7e4079f",
   "metadata": {},
   "outputs": [],
   "source": [
    "df_new = df.copy()\n",
    "df_new['gender'] = df_gender['gender'].tolist()\n",
    "# df_new\n",
    "# df_new.gender.value_counts()"
   ]
  },
  {
   "cell_type": "code",
   "execution_count": 8,
   "id": "60d8c833-690f-4dc1-894c-fdf092073f09",
   "metadata": {},
   "outputs": [],
   "source": [
    "df_new.to_csv(f'/opt/ml/input/cropped_v2.1/train/train_label.csv', index=False)"
   ]
  },
  {
   "cell_type": "markdown",
   "id": "e6739886-9cec-4b92-b1b4-c2afabf7f537",
   "metadata": {},
   "source": [
    "#### Mask label은 수정됐다고 가정"
   ]
  },
  {
   "cell_type": "markdown",
   "id": "17ac3941-f51c-4f45-9a64-6e41a63c1a80",
   "metadata": {},
   "source": [
    "## Data Classify"
   ]
  },
  {
   "cell_type": "code",
   "execution_count": 8,
   "id": "1e6e4df3-a978-4dda-9be9-08597c5e90fc",
   "metadata": {},
   "outputs": [],
   "source": [
    "df_label = df_new.copy()\n",
    "#df_label.gender.value_counts()"
   ]
  },
  {
   "cell_type": "code",
   "execution_count": 9,
   "id": "1dc8b54d-4f37-4740-81af-2ee0df3dfcef",
   "metadata": {},
   "outputs": [],
   "source": [
    "#새로운 데이터프레임 생성\n",
    "name = ['incorrect_mask','mask1','mask2','mask3','mask4','mask5','normal']\n",
    "mask = ['Incorrect', 'Wear', 'Wear', 'Wear', 'Wear', 'Wear', 'NotWear']\n",
    "dfff = pd.DataFrame()\n",
    "\n",
    "for i in range(7):\n",
    "    dff = df_label\n",
    "    dff['img_path'] = df['path'] + '/' + name[i] + '.jpg'\n",
    "    dff['mask'] = mask[i]\n",
    "    dfff = dfff.append(dff, ignore_index=True).reset_index(drop=True)\n",
    "# dfff"
   ]
  },
  {
   "cell_type": "code",
   "execution_count": 10,
   "id": "e1aebbf8-976a-4a09-bd3b-29d72dbeaa33",
   "metadata": {},
   "outputs": [],
   "source": [
    "# 일반 모델을 사용할 경우\n",
    "if NORM == True : \n",
    "    # 예측대상인 타깃 변수 생성\n",
    "    dfff['target'] = 0\n",
    "    dfff['target'] = ((dfff['mask']=='NotWear')*12 + \n",
    "                      (dfff['mask']=='Incorrect')*6 +\n",
    "                      (dfff['gender']=='female')*3 + \n",
    "                      (dfff['age']>=30)*1 + \n",
    "                      (dfff['age']>=58)*1)\n",
    "    # 기존 train.csv와 같은 위치에 새로운 csv 생성\n",
    "    dfff.to_csv(DATA_PATH+'train_classified.csv', index=False)\n",
    "    dfff.to_csv(DATA_PATH+'train_cls.csv', index=False)"
   ]
  },
  {
   "cell_type": "code",
   "execution_count": 11,
   "id": "a0386dc8-52ef-40e6-bfda-0fe7763e3607",
   "metadata": {},
   "outputs": [],
   "source": [
    "# 분리모델을 사용할 경우\n",
    "if SEPERA == True:\n",
    "    # 예측대상인 타깃 변수 생성 mask\n",
    "    dfff['target'] = 0\n",
    "    dfff['target'] = ((dfff['mask']=='NotWear')*12 + \n",
    "                      (dfff['mask']=='Incorrect')*6)\n",
    "    # 기존 train.csv와 같은 위치에 새로운 csv 생성\n",
    "    dfff.to_csv(DATA_PATH+'train_classified_mask.csv', index=False)\n",
    "\n",
    "    # 예측대상인 타깃 변수 생성 gender\n",
    "    dfff['target'] = 0\n",
    "    dfff['target'] = ((dfff['gender']=='female')*3)\n",
    "    # 기존 train.csv와 같은 위치에 새로운 csv 생성\n",
    "    dfff.to_csv(DATA_PATH+'train_classified_gender.csv', index=False)\n",
    "\n",
    "    # 예측대상인 타깃 변수 생성 age\n",
    "    dfff['target'] = 0\n",
    "    dfff['target'] = ((dfff['age']>=30)*1 + \n",
    "                      (dfff['age']>=58)*1)\n",
    "    # 기존 train.csv와 같은 위치에 새로운 csv 생성\n",
    "    dfff.to_csv(DATA_PATH+'train_classified_age.csv', index=False)"
   ]
  },
  {
   "cell_type": "markdown",
   "id": "d6c5239b-adb4-46bc-b015-f2b9892ab8cd",
   "metadata": {},
   "source": [
    "## Folder Classification"
   ]
  },
  {
   "cell_type": "code",
   "execution_count": 12,
   "id": "e7e60589-5545-444c-a5b3-755969641dc1",
   "metadata": {},
   "outputs": [],
   "source": [
    "import os\n",
    "import shutil\n",
    "import pandas as pd"
   ]
  },
  {
   "cell_type": "code",
   "execution_count": 13,
   "id": "338a05e6-a3a7-4af1-ba98-f07f90e810b6",
   "metadata": {},
   "outputs": [],
   "source": [
    "def folder_classification(data_dir, target):\n",
    "    # data_dir 은 데이터 폴더 이름 cropped_v2나 data 등\n",
    "    DATA_PATH = f'/opt/ml/input/{data_dir}/train/'\n",
    "    IMG_PATH = f'/opt/ml/input/{data_dir}/train/images/'\n",
    "    if target == 'all':\n",
    "        NEW_IMG_PATH = f'/opt/ml/input/{data_dir}/train/images_classified/'\n",
    "        train_classified = 'train_classified.csv'\n",
    "    else : \n",
    "        TRAIN_IMG_PATH = f'/opt/ml/input/{data_dir}/train/train_{target}/'\n",
    "        #VALID_IMG_PATH = f'/opt/ml/input/{data_dir}/train/valid_{target}/'\n",
    "        train_classified = f'train_classified_{target}.csv' \n",
    "    \n",
    "    df_cls = pd.read_csv(DATA_PATH+train_classified)\n",
    "    df_cls.sort_values(by=['id'], inplace=True)\n",
    "    df_cls.reset_index(inplace=True)\n",
    "    df_cls.drop(['index'], axis=1, inplace=True)\n",
    "    \n",
    "    #df_cls.to_csv(DATA_PATH+'test.csv', index=False)\n",
    "    \n",
    "    # 새로 분류해서 저장할 디렉토리 생성\n",
    "    if not os.path.isdir(TRAIN_IMG_PATH):\n",
    "        os.makedirs(TRAIN_IMG_PATH)\n",
    "    \n",
    "    '''\n",
    "    if not os.path.isdir(VALID_IMG_PATH):\n",
    "        os.makedirs(VALID_IMG_PATH)\n",
    "    '''\n",
    "\n",
    "    # 타깃 클래스를 이름으로 갖는 디렉토리들을 생성\n",
    "    for i in df_cls['target'].unique():\n",
    "        if not os.path.isdir(TRAIN_IMG_PATH+str(i)):\n",
    "            os.makedirs(TRAIN_IMG_PATH+str(i))\n",
    "    \n",
    "    '''\n",
    "    for i in df_cls['target'].unique():\n",
    "        if not os.path.isdir(VALID_IMG_PATH+str(i)):\n",
    "            os.makedirs(VALID_IMG_PATH+str(i))\\\n",
    "    '''\n",
    "\n",
    "    # images 폴더 내의 개별 이미지 들의 경로를 저장\n",
    "    #path_list = sorted([p for p in os.listdir(IMG_PATH) if '._' not in p])\n",
    "    target_list = df_cls['target'].unique()\n",
    "\n",
    "    # 만들어둔 새로운 경로에 각각의 이미지를 타깃별로 분류해서 복사 붙여넣기.\n",
    "    cnt = 0\n",
    "    for t in target_list:\n",
    "        idx_list = df_cls.index[df_cls['target'] == t].tolist()\n",
    "        \n",
    "        split_idx = int(len(idx_list) * 0.8)\n",
    "        train_idx = idx_list[:split_idx]\n",
    "        #valid_idx = idx_list[split_idx:]\n",
    "        \n",
    "        for i in train_idx:\n",
    "            label = str(df_cls.iloc[i, -1])\n",
    "            img_path = df_cls.iloc[i, -3]\n",
    "            path, file_name = img_path.split('/')\n",
    "            shutil.copy(IMG_PATH+img_path, TRAIN_IMG_PATH+label+'/'+path + '_' + file_name)\n",
    "            cnt += 1\n",
    "        '''    \n",
    "        for i in valid_idx:\n",
    "        \n",
    "            label = str(df_cls.iloc[i, -1])\n",
    "            img_path = df_cls.iloc[i, -3]\n",
    "            path, file_name = img_path.split('/')\n",
    "        \n",
    "            shutil.copy(IMG_PATH+img_path, VALID_IMG_PATH+label+'/'+path + '_' + file_name)\n",
    "        \n",
    "            cnt += 1 \n",
    "        '''"
   ]
  },
  {
   "cell_type": "code",
   "execution_count": 14,
   "id": "038764b6-b070-4e57-8744-19684f3f2b85",
   "metadata": {},
   "outputs": [],
   "source": [
    "if NORM == True : \n",
    "    folder_classification(DATA_DIR,'all')\n",
    "if SEPERA == True :\n",
    "    folder_classification(DATA_DIR,'mask')\n",
    "    folder_classification(DATA_DIR,'gender')\n",
    "    folder_classification(DATA_DIR,'age')"
   ]
  },
  {
   "cell_type": "code",
   "execution_count": null,
   "id": "dfb057e0-45b3-4499-aa3c-f57f393b0bef",
   "metadata": {},
   "outputs": [],
   "source": []
  }
 ],
 "metadata": {
  "kernelspec": {
   "display_name": "Python 3",
   "language": "python",
   "name": "python3"
  },
  "language_info": {
   "codemirror_mode": {
    "name": "ipython",
    "version": 3
   },
   "file_extension": ".py",
   "mimetype": "text/x-python",
   "name": "python",
   "nbconvert_exporter": "python",
   "pygments_lexer": "ipython3",
   "version": "3.8.5"
  }
 },
 "nbformat": 4,
 "nbformat_minor": 5
}
